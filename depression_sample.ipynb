{
  "nbformat": 4,
  "nbformat_minor": 0,
  "metadata": {
    "colab": {
      "name": "depression sample.ipynb",
      "provenance": [],
      "collapsed_sections": []
    },
    "kernelspec": {
      "name": "python3",
      "display_name": "Python 3"
    },
    "language_info": {
      "name": "python"
    }
  },
  "cells": [
    {
      "cell_type": "code",
      "metadata": {
        "colab": {
          "base_uri": "https://localhost:8080/"
        },
        "id": "zr6GSV_CCnES",
        "outputId": "e72eb1a7-16fb-484d-f36a-76cd9d0ca698"
      },
      "source": [
        "pip install vaderSentiment"
      ],
      "execution_count": 1,
      "outputs": [
        {
          "output_type": "stream",
          "text": [
            "Collecting vaderSentiment\n",
            "\u001b[?25l  Downloading https://files.pythonhosted.org/packages/76/fc/310e16254683c1ed35eeb97386986d6c00bc29df17ce280aed64d55537e9/vaderSentiment-3.3.2-py2.py3-none-any.whl (125kB)\n",
            "\r\u001b[K     |██▋                             | 10kB 11.3MB/s eta 0:00:01\r\u001b[K     |█████▏                          | 20kB 13.1MB/s eta 0:00:01\r\u001b[K     |███████▉                        | 30kB 8.9MB/s eta 0:00:01\r\u001b[K     |██████████▍                     | 40kB 8.4MB/s eta 0:00:01\r\u001b[K     |█████████████                   | 51kB 4.5MB/s eta 0:00:01\r\u001b[K     |███████████████▋                | 61kB 5.0MB/s eta 0:00:01\r\u001b[K     |██████████████████▏             | 71kB 5.0MB/s eta 0:00:01\r\u001b[K     |████████████████████▉           | 81kB 5.2MB/s eta 0:00:01\r\u001b[K     |███████████████████████▍        | 92kB 5.1MB/s eta 0:00:01\r\u001b[K     |██████████████████████████      | 102kB 5.6MB/s eta 0:00:01\r\u001b[K     |████████████████████████████▋   | 112kB 5.6MB/s eta 0:00:01\r\u001b[K     |███████████████████████████████▏| 122kB 5.6MB/s eta 0:00:01\r\u001b[K     |████████████████████████████████| 133kB 5.6MB/s \n",
            "\u001b[?25hRequirement already satisfied: requests in /usr/local/lib/python3.7/dist-packages (from vaderSentiment) (2.23.0)\n",
            "Requirement already satisfied: certifi>=2017.4.17 in /usr/local/lib/python3.7/dist-packages (from requests->vaderSentiment) (2020.12.5)\n",
            "Requirement already satisfied: idna<3,>=2.5 in /usr/local/lib/python3.7/dist-packages (from requests->vaderSentiment) (2.10)\n",
            "Requirement already satisfied: urllib3!=1.25.0,!=1.25.1,<1.26,>=1.21.1 in /usr/local/lib/python3.7/dist-packages (from requests->vaderSentiment) (1.24.3)\n",
            "Requirement already satisfied: chardet<4,>=3.0.2 in /usr/local/lib/python3.7/dist-packages (from requests->vaderSentiment) (3.0.4)\n",
            "Installing collected packages: vaderSentiment\n",
            "Successfully installed vaderSentiment-3.3.2\n"
          ],
          "name": "stdout"
        }
      ]
    },
    {
      "cell_type": "code",
      "metadata": {
        "id": "j6jiTxfofeaC"
      },
      "source": [
        "#Contributors: Michel H. & Kaan A."
      ],
      "execution_count": 2,
      "outputs": []
    },
    {
      "cell_type": "code",
      "metadata": {
        "id": "oO8rmCQC51O1"
      },
      "source": [
        "import warnings\n",
        "warnings.filterwarnings(\"ignore\")"
      ],
      "execution_count": 3,
      "outputs": []
    },
    {
      "cell_type": "code",
      "metadata": {
        "id": "m24B4u3Urrj5"
      },
      "source": [
        "import pandas as pd\n",
        "from vaderSentiment.vaderSentiment import SentimentIntensityAnalyzer\n",
        "import numpy as np\n",
        "from sklearn.model_selection import GridSearchCV\n",
        "from sklearn.metrics import confusion_matrix"
      ],
      "execution_count": 120,
      "outputs": []
    },
    {
      "cell_type": "code",
      "metadata": {
        "colab": {
          "resources": {
            "http://localhost:8080/nbextensions/google.colab/files.js": {
              "data": "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",
              "ok": true,
              "headers": [
                [
                  "content-type",
                  "application/javascript"
                ]
              ],
              "status": 200,
              "status_text": ""
            }
          },
          "base_uri": "https://localhost:8080/",
          "height": 73
        },
        "id": "Rqoad3Cdvc9s",
        "outputId": "55e36aec-5882-46f3-a74e-a14d5550eca7"
      },
      "source": [
        "from google.colab import files\n",
        "uploaded = files.upload()"
      ],
      "execution_count": 5,
      "outputs": [
        {
          "output_type": "display_data",
          "data": {
            "text/html": [
              "\n",
              "     <input type=\"file\" id=\"files-47b033f0-b5c5-4f68-92e8-09f21a786d8d\" name=\"files[]\" multiple disabled\n",
              "        style=\"border:none\" />\n",
              "     <output id=\"result-47b033f0-b5c5-4f68-92e8-09f21a786d8d\">\n",
              "      Upload widget is only available when the cell has been executed in the\n",
              "      current browser session. Please rerun this cell to enable.\n",
              "      </output>\n",
              "      <script src=\"/nbextensions/google.colab/files.js\"></script> "
            ],
            "text/plain": [
              "<IPython.core.display.HTML object>"
            ]
          },
          "metadata": {
            "tags": []
          }
        },
        {
          "output_type": "stream",
          "text": [
            "Saving Womens Clothing E-Commerce Reviews.csv to Womens Clothing E-Commerce Reviews.csv\n"
          ],
          "name": "stdout"
        }
      ]
    },
    {
      "cell_type": "code",
      "metadata": {
        "colab": {
          "base_uri": "https://localhost:8080/"
        },
        "id": "bP4ZLB6PvqaD",
        "outputId": "ddf48709-20f3-4b8e-8601-39cdb8dc5b8c"
      },
      "source": [
        "import io\n",
        "df = pd.read_csv(io.BytesIO(uploaded['Womens Clothing E-Commerce Reviews.csv']))\n",
        "# Dataset is now stored in a Pandas Dataframe\n",
        "df\n",
        "df[\"Title\"].isnull().sum()\n"
      ],
      "execution_count": 61,
      "outputs": [
        {
          "output_type": "execute_result",
          "data": {
            "text/plain": [
              "3810"
            ]
          },
          "metadata": {
            "tags": []
          },
          "execution_count": 61
        }
      ]
    },
    {
      "cell_type": "code",
      "metadata": {
        "colab": {
          "base_uri": "https://localhost:8080/",
          "height": 586
        },
        "id": "pHQv-XKkypU1",
        "outputId": "ffc9be04-c4fe-41b4-c269-28fd16477773"
      },
      "source": [
        "df"
      ],
      "execution_count": 62,
      "outputs": [
        {
          "output_type": "execute_result",
          "data": {
            "text/html": [
              "<div>\n",
              "<style scoped>\n",
              "    .dataframe tbody tr th:only-of-type {\n",
              "        vertical-align: middle;\n",
              "    }\n",
              "\n",
              "    .dataframe tbody tr th {\n",
              "        vertical-align: top;\n",
              "    }\n",
              "\n",
              "    .dataframe thead th {\n",
              "        text-align: right;\n",
              "    }\n",
              "</style>\n",
              "<table border=\"1\" class=\"dataframe\">\n",
              "  <thead>\n",
              "    <tr style=\"text-align: right;\">\n",
              "      <th></th>\n",
              "      <th>Unnamed: 0</th>\n",
              "      <th>Clothing ID</th>\n",
              "      <th>Age</th>\n",
              "      <th>Title</th>\n",
              "      <th>Review Text</th>\n",
              "      <th>Rating</th>\n",
              "      <th>Recommended IND</th>\n",
              "      <th>Positive Feedback Count</th>\n",
              "      <th>Division Name</th>\n",
              "      <th>Department Name</th>\n",
              "      <th>Class Name</th>\n",
              "    </tr>\n",
              "  </thead>\n",
              "  <tbody>\n",
              "    <tr>\n",
              "      <th>0</th>\n",
              "      <td>0</td>\n",
              "      <td>767</td>\n",
              "      <td>33</td>\n",
              "      <td>NaN</td>\n",
              "      <td>Absolutely wonderful - silky and sexy and comf...</td>\n",
              "      <td>4</td>\n",
              "      <td>1</td>\n",
              "      <td>0</td>\n",
              "      <td>Initmates</td>\n",
              "      <td>Intimate</td>\n",
              "      <td>Intimates</td>\n",
              "    </tr>\n",
              "    <tr>\n",
              "      <th>1</th>\n",
              "      <td>1</td>\n",
              "      <td>1080</td>\n",
              "      <td>34</td>\n",
              "      <td>NaN</td>\n",
              "      <td>Love this dress!  it's sooo pretty.  i happene...</td>\n",
              "      <td>5</td>\n",
              "      <td>1</td>\n",
              "      <td>4</td>\n",
              "      <td>General</td>\n",
              "      <td>Dresses</td>\n",
              "      <td>Dresses</td>\n",
              "    </tr>\n",
              "    <tr>\n",
              "      <th>2</th>\n",
              "      <td>2</td>\n",
              "      <td>1077</td>\n",
              "      <td>60</td>\n",
              "      <td>Some major design flaws</td>\n",
              "      <td>I had such high hopes for this dress and reall...</td>\n",
              "      <td>3</td>\n",
              "      <td>0</td>\n",
              "      <td>0</td>\n",
              "      <td>General</td>\n",
              "      <td>Dresses</td>\n",
              "      <td>Dresses</td>\n",
              "    </tr>\n",
              "    <tr>\n",
              "      <th>3</th>\n",
              "      <td>3</td>\n",
              "      <td>1049</td>\n",
              "      <td>50</td>\n",
              "      <td>My favorite buy!</td>\n",
              "      <td>I love, love, love this jumpsuit. it's fun, fl...</td>\n",
              "      <td>5</td>\n",
              "      <td>1</td>\n",
              "      <td>0</td>\n",
              "      <td>General Petite</td>\n",
              "      <td>Bottoms</td>\n",
              "      <td>Pants</td>\n",
              "    </tr>\n",
              "    <tr>\n",
              "      <th>4</th>\n",
              "      <td>4</td>\n",
              "      <td>847</td>\n",
              "      <td>47</td>\n",
              "      <td>Flattering shirt</td>\n",
              "      <td>This shirt is very flattering to all due to th...</td>\n",
              "      <td>5</td>\n",
              "      <td>1</td>\n",
              "      <td>6</td>\n",
              "      <td>General</td>\n",
              "      <td>Tops</td>\n",
              "      <td>Blouses</td>\n",
              "    </tr>\n",
              "    <tr>\n",
              "      <th>...</th>\n",
              "      <td>...</td>\n",
              "      <td>...</td>\n",
              "      <td>...</td>\n",
              "      <td>...</td>\n",
              "      <td>...</td>\n",
              "      <td>...</td>\n",
              "      <td>...</td>\n",
              "      <td>...</td>\n",
              "      <td>...</td>\n",
              "      <td>...</td>\n",
              "      <td>...</td>\n",
              "    </tr>\n",
              "    <tr>\n",
              "      <th>23481</th>\n",
              "      <td>23481</td>\n",
              "      <td>1104</td>\n",
              "      <td>34</td>\n",
              "      <td>Great dress for many occasions</td>\n",
              "      <td>I was very happy to snag this dress at such a ...</td>\n",
              "      <td>5</td>\n",
              "      <td>1</td>\n",
              "      <td>0</td>\n",
              "      <td>General Petite</td>\n",
              "      <td>Dresses</td>\n",
              "      <td>Dresses</td>\n",
              "    </tr>\n",
              "    <tr>\n",
              "      <th>23482</th>\n",
              "      <td>23482</td>\n",
              "      <td>862</td>\n",
              "      <td>48</td>\n",
              "      <td>Wish it was made of cotton</td>\n",
              "      <td>It reminds me of maternity clothes. soft, stre...</td>\n",
              "      <td>3</td>\n",
              "      <td>1</td>\n",
              "      <td>0</td>\n",
              "      <td>General Petite</td>\n",
              "      <td>Tops</td>\n",
              "      <td>Knits</td>\n",
              "    </tr>\n",
              "    <tr>\n",
              "      <th>23483</th>\n",
              "      <td>23483</td>\n",
              "      <td>1104</td>\n",
              "      <td>31</td>\n",
              "      <td>Cute, but see through</td>\n",
              "      <td>This fit well, but the top was very see throug...</td>\n",
              "      <td>3</td>\n",
              "      <td>0</td>\n",
              "      <td>1</td>\n",
              "      <td>General Petite</td>\n",
              "      <td>Dresses</td>\n",
              "      <td>Dresses</td>\n",
              "    </tr>\n",
              "    <tr>\n",
              "      <th>23484</th>\n",
              "      <td>23484</td>\n",
              "      <td>1084</td>\n",
              "      <td>28</td>\n",
              "      <td>Very cute dress, perfect for summer parties an...</td>\n",
              "      <td>I bought this dress for a wedding i have this ...</td>\n",
              "      <td>3</td>\n",
              "      <td>1</td>\n",
              "      <td>2</td>\n",
              "      <td>General</td>\n",
              "      <td>Dresses</td>\n",
              "      <td>Dresses</td>\n",
              "    </tr>\n",
              "    <tr>\n",
              "      <th>23485</th>\n",
              "      <td>23485</td>\n",
              "      <td>1104</td>\n",
              "      <td>52</td>\n",
              "      <td>Please make more like this one!</td>\n",
              "      <td>This dress in a lovely platinum is feminine an...</td>\n",
              "      <td>5</td>\n",
              "      <td>1</td>\n",
              "      <td>22</td>\n",
              "      <td>General Petite</td>\n",
              "      <td>Dresses</td>\n",
              "      <td>Dresses</td>\n",
              "    </tr>\n",
              "  </tbody>\n",
              "</table>\n",
              "<p>23486 rows × 11 columns</p>\n",
              "</div>"
            ],
            "text/plain": [
              "       Unnamed: 0  Clothing ID  Age  ...   Division Name Department Name  Class Name\n",
              "0               0          767   33  ...       Initmates        Intimate   Intimates\n",
              "1               1         1080   34  ...         General         Dresses     Dresses\n",
              "2               2         1077   60  ...         General         Dresses     Dresses\n",
              "3               3         1049   50  ...  General Petite         Bottoms       Pants\n",
              "4               4          847   47  ...         General            Tops     Blouses\n",
              "...           ...          ...  ...  ...             ...             ...         ...\n",
              "23481       23481         1104   34  ...  General Petite         Dresses     Dresses\n",
              "23482       23482          862   48  ...  General Petite            Tops       Knits\n",
              "23483       23483         1104   31  ...  General Petite         Dresses     Dresses\n",
              "23484       23484         1084   28  ...         General         Dresses     Dresses\n",
              "23485       23485         1104   52  ...  General Petite         Dresses     Dresses\n",
              "\n",
              "[23486 rows x 11 columns]"
            ]
          },
          "metadata": {
            "tags": []
          },
          "execution_count": 62
        }
      ]
    },
    {
      "cell_type": "code",
      "metadata": {
        "id": "2FZchSwuw0Pg"
      },
      "source": [
        "df=df[['Review Text','Rating']]\n",
        "df.dropna(inplace=True)\n"
      ],
      "execution_count": 63,
      "outputs": []
    },
    {
      "cell_type": "code",
      "metadata": {
        "id": "LsHujKKbxlse"
      },
      "source": [
        "def encoding(x):\n",
        "  if x in [1,2,3]:\n",
        "    return \"bad\"\n",
        "  else:\n",
        "    return \"good\""
      ],
      "execution_count": 64,
      "outputs": []
    },
    {
      "cell_type": "code",
      "metadata": {
        "id": "woNIdE5WysIm"
      },
      "source": [
        "df['value']=df['Rating'].apply(lambda x:encoding(x))"
      ],
      "execution_count": 65,
      "outputs": []
    },
    {
      "cell_type": "code",
      "metadata": {
        "colab": {
          "base_uri": "https://localhost:8080/",
          "height": 402
        },
        "id": "aTTzFm2A0gCk",
        "outputId": "c5d60777-7ede-4d63-84d0-9fafcadabea9"
      },
      "source": [
        "df"
      ],
      "execution_count": 66,
      "outputs": [
        {
          "output_type": "execute_result",
          "data": {
            "text/html": [
              "<div>\n",
              "<style scoped>\n",
              "    .dataframe tbody tr th:only-of-type {\n",
              "        vertical-align: middle;\n",
              "    }\n",
              "\n",
              "    .dataframe tbody tr th {\n",
              "        vertical-align: top;\n",
              "    }\n",
              "\n",
              "    .dataframe thead th {\n",
              "        text-align: right;\n",
              "    }\n",
              "</style>\n",
              "<table border=\"1\" class=\"dataframe\">\n",
              "  <thead>\n",
              "    <tr style=\"text-align: right;\">\n",
              "      <th></th>\n",
              "      <th>Review Text</th>\n",
              "      <th>Rating</th>\n",
              "      <th>value</th>\n",
              "    </tr>\n",
              "  </thead>\n",
              "  <tbody>\n",
              "    <tr>\n",
              "      <th>0</th>\n",
              "      <td>Absolutely wonderful - silky and sexy and comf...</td>\n",
              "      <td>4</td>\n",
              "      <td>good</td>\n",
              "    </tr>\n",
              "    <tr>\n",
              "      <th>1</th>\n",
              "      <td>Love this dress!  it's sooo pretty.  i happene...</td>\n",
              "      <td>5</td>\n",
              "      <td>good</td>\n",
              "    </tr>\n",
              "    <tr>\n",
              "      <th>2</th>\n",
              "      <td>I had such high hopes for this dress and reall...</td>\n",
              "      <td>3</td>\n",
              "      <td>bad</td>\n",
              "    </tr>\n",
              "    <tr>\n",
              "      <th>3</th>\n",
              "      <td>I love, love, love this jumpsuit. it's fun, fl...</td>\n",
              "      <td>5</td>\n",
              "      <td>good</td>\n",
              "    </tr>\n",
              "    <tr>\n",
              "      <th>4</th>\n",
              "      <td>This shirt is very flattering to all due to th...</td>\n",
              "      <td>5</td>\n",
              "      <td>good</td>\n",
              "    </tr>\n",
              "    <tr>\n",
              "      <th>...</th>\n",
              "      <td>...</td>\n",
              "      <td>...</td>\n",
              "      <td>...</td>\n",
              "    </tr>\n",
              "    <tr>\n",
              "      <th>23481</th>\n",
              "      <td>I was very happy to snag this dress at such a ...</td>\n",
              "      <td>5</td>\n",
              "      <td>good</td>\n",
              "    </tr>\n",
              "    <tr>\n",
              "      <th>23482</th>\n",
              "      <td>It reminds me of maternity clothes. soft, stre...</td>\n",
              "      <td>3</td>\n",
              "      <td>bad</td>\n",
              "    </tr>\n",
              "    <tr>\n",
              "      <th>23483</th>\n",
              "      <td>This fit well, but the top was very see throug...</td>\n",
              "      <td>3</td>\n",
              "      <td>bad</td>\n",
              "    </tr>\n",
              "    <tr>\n",
              "      <th>23484</th>\n",
              "      <td>I bought this dress for a wedding i have this ...</td>\n",
              "      <td>3</td>\n",
              "      <td>bad</td>\n",
              "    </tr>\n",
              "    <tr>\n",
              "      <th>23485</th>\n",
              "      <td>This dress in a lovely platinum is feminine an...</td>\n",
              "      <td>5</td>\n",
              "      <td>good</td>\n",
              "    </tr>\n",
              "  </tbody>\n",
              "</table>\n",
              "<p>22641 rows × 3 columns</p>\n",
              "</div>"
            ],
            "text/plain": [
              "                                             Review Text  Rating value\n",
              "0      Absolutely wonderful - silky and sexy and comf...       4  good\n",
              "1      Love this dress!  it's sooo pretty.  i happene...       5  good\n",
              "2      I had such high hopes for this dress and reall...       3   bad\n",
              "3      I love, love, love this jumpsuit. it's fun, fl...       5  good\n",
              "4      This shirt is very flattering to all due to th...       5  good\n",
              "...                                                  ...     ...   ...\n",
              "23481  I was very happy to snag this dress at such a ...       5  good\n",
              "23482  It reminds me of maternity clothes. soft, stre...       3   bad\n",
              "23483  This fit well, but the top was very see throug...       3   bad\n",
              "23484  I bought this dress for a wedding i have this ...       3   bad\n",
              "23485  This dress in a lovely platinum is feminine an...       5  good\n",
              "\n",
              "[22641 rows x 3 columns]"
            ]
          },
          "metadata": {
            "tags": []
          },
          "execution_count": 66
        }
      ]
    },
    {
      "cell_type": "code",
      "metadata": {
        "colab": {
          "base_uri": "https://localhost:8080/"
        },
        "id": "U1TT5S1wzYPT",
        "outputId": "568870b1-4be9-4e5b-b708-0601182a4747"
      },
      "source": [
        "len(df[df[\"Rating\"]==3])"
      ],
      "execution_count": 67,
      "outputs": [
        {
          "output_type": "execute_result",
          "data": {
            "text/plain": [
              "2823"
            ]
          },
          "metadata": {
            "tags": []
          },
          "execution_count": 67
        }
      ]
    },
    {
      "cell_type": "code",
      "metadata": {
        "colab": {
          "base_uri": "https://localhost:8080/"
        },
        "id": "k-bEQty61Ute",
        "outputId": "7f42cf7b-1ebc-409d-fb28-097be95219da"
      },
      "source": [
        "df.info()"
      ],
      "execution_count": 68,
      "outputs": [
        {
          "output_type": "stream",
          "text": [
            "<class 'pandas.core.frame.DataFrame'>\n",
            "Int64Index: 22641 entries, 0 to 23485\n",
            "Data columns (total 3 columns):\n",
            " #   Column       Non-Null Count  Dtype \n",
            "---  ------       --------------  ----- \n",
            " 0   Review Text  22641 non-null  object\n",
            " 1   Rating       22641 non-null  int64 \n",
            " 2   value        22641 non-null  object\n",
            "dtypes: int64(1), object(2)\n",
            "memory usage: 707.5+ KB\n"
          ],
          "name": "stdout"
        }
      ]
    },
    {
      "cell_type": "code",
      "metadata": {
        "colab": {
          "base_uri": "https://localhost:8080/"
        },
        "id": "ydL--4PXSceB",
        "outputId": "7924df0e-133c-4624-b8ab-f318bbb81988"
      },
      "source": [
        "df[\"value\"].value_counts()"
      ],
      "execution_count": 69,
      "outputs": [
        {
          "output_type": "execute_result",
          "data": {
            "text/plain": [
              "good    17448\n",
              "bad      5193\n",
              "Name: value, dtype: int64"
            ]
          },
          "metadata": {
            "tags": []
          },
          "execution_count": 69
        }
      ]
    },
    {
      "cell_type": "code",
      "metadata": {
        "id": "dr1rOplN9O_z",
        "outputId": "9c2c60b0-5fba-4fb3-c67a-50ccdb7e9049",
        "colab": {
          "base_uri": "https://localhost:8080/"
        }
      },
      "source": [
        "import nltk\n",
        "nltk.download('stopwords')\n",
        "nltk.download('punkt')\n",
        "stemmer = nltk.stem.porter.PorterStemmer()\n",
        "stopwords = nltk.corpus.stopwords.words('english')"
      ],
      "execution_count": 70,
      "outputs": [
        {
          "output_type": "stream",
          "text": [
            "[nltk_data] Downloading package stopwords to /root/nltk_data...\n",
            "[nltk_data]   Package stopwords is already up-to-date!\n",
            "[nltk_data] Downloading package punkt to /root/nltk_data...\n",
            "[nltk_data]   Package punkt is already up-to-date!\n"
          ],
          "name": "stdout"
        }
      ]
    },
    {
      "cell_type": "code",
      "metadata": {
        "id": "UMxGzPBM7sEH"
      },
      "source": [
        "df['words_count'] = df['Review Text'].map(lambda t: len(t.split(' '))) #split text to make list of words, and len of list is the count"
      ],
      "execution_count": 71,
      "outputs": []
    },
    {
      "cell_type": "code",
      "metadata": {
        "id": "j9J0EgYz7tGc"
      },
      "source": [
        "df['punct_count'] = df['Review Text'].map(lambda t: len([x for x in t if x in (';', ':', ',', '.', '!', '?')]))"
      ],
      "execution_count": 72,
      "outputs": []
    },
    {
      "cell_type": "code",
      "metadata": {
        "id": "9GSnIvKl7tdv"
      },
      "source": [
        "df['stopwords_count'] = df['Review Text'].map(lambda t: len([x for x in t.split(\" \") if x in stopwords]))"
      ],
      "execution_count": 73,
      "outputs": []
    },
    {
      "cell_type": "code",
      "metadata": {
        "id": "RFBEzj2vAbab",
        "outputId": "5c85e66f-2e3e-434e-a300-f7489197fee4",
        "colab": {
          "base_uri": "https://localhost:8080/",
          "height": 402
        }
      },
      "source": [
        "df.iloc[]"
      ],
      "execution_count": 74,
      "outputs": [
        {
          "output_type": "execute_result",
          "data": {
            "text/html": [
              "<div>\n",
              "<style scoped>\n",
              "    .dataframe tbody tr th:only-of-type {\n",
              "        vertical-align: middle;\n",
              "    }\n",
              "\n",
              "    .dataframe tbody tr th {\n",
              "        vertical-align: top;\n",
              "    }\n",
              "\n",
              "    .dataframe thead th {\n",
              "        text-align: right;\n",
              "    }\n",
              "</style>\n",
              "<table border=\"1\" class=\"dataframe\">\n",
              "  <thead>\n",
              "    <tr style=\"text-align: right;\">\n",
              "      <th></th>\n",
              "      <th>Review Text</th>\n",
              "      <th>Rating</th>\n",
              "      <th>value</th>\n",
              "      <th>words_count</th>\n",
              "      <th>punct_count</th>\n",
              "      <th>stopwords_count</th>\n",
              "    </tr>\n",
              "  </thead>\n",
              "  <tbody>\n",
              "    <tr>\n",
              "      <th>0</th>\n",
              "      <td>Absolutely wonderful - silky and sexy and comf...</td>\n",
              "      <td>4</td>\n",
              "      <td>good</td>\n",
              "      <td>8</td>\n",
              "      <td>0</td>\n",
              "      <td>2</td>\n",
              "    </tr>\n",
              "    <tr>\n",
              "      <th>1</th>\n",
              "      <td>Love this dress!  it's sooo pretty.  i happene...</td>\n",
              "      <td>5</td>\n",
              "      <td>good</td>\n",
              "      <td>67</td>\n",
              "      <td>7</td>\n",
              "      <td>30</td>\n",
              "    </tr>\n",
              "    <tr>\n",
              "      <th>2</th>\n",
              "      <td>I had such high hopes for this dress and reall...</td>\n",
              "      <td>3</td>\n",
              "      <td>bad</td>\n",
              "      <td>98</td>\n",
              "      <td>9</td>\n",
              "      <td>45</td>\n",
              "    </tr>\n",
              "    <tr>\n",
              "      <th>3</th>\n",
              "      <td>I love, love, love this jumpsuit. it's fun, fl...</td>\n",
              "      <td>5</td>\n",
              "      <td>good</td>\n",
              "      <td>22</td>\n",
              "      <td>8</td>\n",
              "      <td>6</td>\n",
              "    </tr>\n",
              "    <tr>\n",
              "      <th>4</th>\n",
              "      <td>This shirt is very flattering to all due to th...</td>\n",
              "      <td>5</td>\n",
              "      <td>good</td>\n",
              "      <td>36</td>\n",
              "      <td>5</td>\n",
              "      <td>19</td>\n",
              "    </tr>\n",
              "    <tr>\n",
              "      <th>...</th>\n",
              "      <td>...</td>\n",
              "      <td>...</td>\n",
              "      <td>...</td>\n",
              "      <td>...</td>\n",
              "      <td>...</td>\n",
              "      <td>...</td>\n",
              "    </tr>\n",
              "    <tr>\n",
              "      <th>23481</th>\n",
              "      <td>I was very happy to snag this dress at such a ...</td>\n",
              "      <td>5</td>\n",
              "      <td>good</td>\n",
              "      <td>28</td>\n",
              "      <td>2</td>\n",
              "      <td>16</td>\n",
              "    </tr>\n",
              "    <tr>\n",
              "      <th>23482</th>\n",
              "      <td>It reminds me of maternity clothes. soft, stre...</td>\n",
              "      <td>3</td>\n",
              "      <td>bad</td>\n",
              "      <td>37</td>\n",
              "      <td>12</td>\n",
              "      <td>12</td>\n",
              "    </tr>\n",
              "    <tr>\n",
              "      <th>23483</th>\n",
              "      <td>This fit well, but the top was very see throug...</td>\n",
              "      <td>3</td>\n",
              "      <td>bad</td>\n",
              "      <td>42</td>\n",
              "      <td>6</td>\n",
              "      <td>21</td>\n",
              "    </tr>\n",
              "    <tr>\n",
              "      <th>23484</th>\n",
              "      <td>I bought this dress for a wedding i have this ...</td>\n",
              "      <td>3</td>\n",
              "      <td>bad</td>\n",
              "      <td>86</td>\n",
              "      <td>9</td>\n",
              "      <td>46</td>\n",
              "    </tr>\n",
              "    <tr>\n",
              "      <th>23485</th>\n",
              "      <td>This dress in a lovely platinum is feminine an...</td>\n",
              "      <td>5</td>\n",
              "      <td>good</td>\n",
              "      <td>19</td>\n",
              "      <td>4</td>\n",
              "      <td>6</td>\n",
              "    </tr>\n",
              "  </tbody>\n",
              "</table>\n",
              "<p>22641 rows × 6 columns</p>\n",
              "</div>"
            ],
            "text/plain": [
              "                                             Review Text  ...  stopwords_count\n",
              "0      Absolutely wonderful - silky and sexy and comf...  ...                2\n",
              "1      Love this dress!  it's sooo pretty.  i happene...  ...               30\n",
              "2      I had such high hopes for this dress and reall...  ...               45\n",
              "3      I love, love, love this jumpsuit. it's fun, fl...  ...                6\n",
              "4      This shirt is very flattering to all due to th...  ...               19\n",
              "...                                                  ...  ...              ...\n",
              "23481  I was very happy to snag this dress at such a ...  ...               16\n",
              "23482  It reminds me of maternity clothes. soft, stre...  ...               12\n",
              "23483  This fit well, but the top was very see throug...  ...               21\n",
              "23484  I bought this dress for a wedding i have this ...  ...               46\n",
              "23485  This dress in a lovely platinum is feminine an...  ...                6\n",
              "\n",
              "[22641 rows x 6 columns]"
            ]
          },
          "metadata": {
            "tags": []
          },
          "execution_count": 74
        }
      ]
    },
    {
      "cell_type": "code",
      "metadata": {
        "id": "qP1diLby_hp3",
        "outputId": "a32091b2-2e87-4286-9eaf-d46998cb1c08",
        "colab": {
          "base_uri": "https://localhost:8080/"
        }
      },
      "source": [
        "for i in df.iloc[3][\"Review Text\"].split(\" \"):\n",
        "  if i in stopwords:\n",
        "    print(i)"
      ],
      "execution_count": 75,
      "outputs": [
        {
          "output_type": "stream",
          "text": [
            "this\n",
            "it's\n",
            "and\n",
            "i\n",
            "i\n",
            "but\n"
          ],
          "name": "stdout"
        }
      ]
    },
    {
      "cell_type": "code",
      "metadata": {
        "colab": {
          "base_uri": "https://localhost:8080/",
          "height": 402
        },
        "id": "VldAVnVY8xvq",
        "outputId": "13609fba-0e45-4189-d777-7a10a96609bb"
      },
      "source": [
        "# Apply a first round of text cleaning techniques\n",
        "import re\n",
        "import string\n",
        "\n",
        "def clean_text_round1(text):\n",
        "    '''Make text lowercase, remove text in square brackets, remove punctuation and remove words containing numbers.'''\n",
        "    text = text.lower()\n",
        "    text = re.sub('\\[.*?\\]', '', text)\n",
        "    text = re.sub('[%s]' % re.escape(string.punctuation), '', text)\n",
        "    text = re.sub('\\w*\\d\\w*', '', text)\n",
        "    return text\n",
        "\n",
        "round1 = lambda x: clean_text_round1(x)\n",
        "\n",
        "# Let's take a look at the updated text\n",
        "df['Review Text']=df['Review Text'].apply(round1)\n",
        "\n",
        "\n",
        "# Apply a second round of cleaning\n",
        "def clean_text_round2(text):\n",
        "    '''Get rid of some additional punctuation and non-sensical text that was missed the first time around.'''\n",
        "    text = re.sub('[‘’“”…]', '', text)\n",
        "    text = re.sub('\\n', '', text)\n",
        "    return text\n",
        "\n",
        "round2 = lambda x: clean_text_round2(x)\n",
        "\n",
        "\n",
        "# Let's take a look at the updated text\n",
        "df['Review Text']=df['Review Text'].apply(round2)\n",
        "\n",
        "\n",
        "\n",
        "def clean_text(t):    \n",
        "    tokenized_text = nltk.tokenize.word_tokenize(t.lower())\n",
        "    alphabetic_text = [w for w in tokenized_text if w.isalpha()]\n",
        "    alphabetic_text\n",
        "    t = [w for w in alphabetic_text if w not in stopwords]\n",
        "    stemmed = [stemmer.stem(w) for w in t]\n",
        "    new_text = ' '.join(stemmed)\n",
        "    return new_text\n",
        "round3=lambda x: clean_text(x)\n",
        "\n",
        "df['Review Text']=df['Review Text'].apply(round3)\n",
        "df"
      ],
      "execution_count": 76,
      "outputs": [
        {
          "output_type": "execute_result",
          "data": {
            "text/html": [
              "<div>\n",
              "<style scoped>\n",
              "    .dataframe tbody tr th:only-of-type {\n",
              "        vertical-align: middle;\n",
              "    }\n",
              "\n",
              "    .dataframe tbody tr th {\n",
              "        vertical-align: top;\n",
              "    }\n",
              "\n",
              "    .dataframe thead th {\n",
              "        text-align: right;\n",
              "    }\n",
              "</style>\n",
              "<table border=\"1\" class=\"dataframe\">\n",
              "  <thead>\n",
              "    <tr style=\"text-align: right;\">\n",
              "      <th></th>\n",
              "      <th>Review Text</th>\n",
              "      <th>Rating</th>\n",
              "      <th>value</th>\n",
              "      <th>words_count</th>\n",
              "      <th>punct_count</th>\n",
              "      <th>stopwords_count</th>\n",
              "    </tr>\n",
              "  </thead>\n",
              "  <tbody>\n",
              "    <tr>\n",
              "      <th>0</th>\n",
              "      <td>absolut wonder silki sexi comfort</td>\n",
              "      <td>4</td>\n",
              "      <td>good</td>\n",
              "      <td>8</td>\n",
              "      <td>0</td>\n",
              "      <td>2</td>\n",
              "    </tr>\n",
              "    <tr>\n",
              "      <th>1</th>\n",
              "      <td>love dress sooo pretti happen find store im gl...</td>\n",
              "      <td>5</td>\n",
              "      <td>good</td>\n",
              "      <td>67</td>\n",
              "      <td>7</td>\n",
              "      <td>30</td>\n",
              "    </tr>\n",
              "    <tr>\n",
              "      <th>2</th>\n",
              "      <td>high hope dress realli want work initi order p...</td>\n",
              "      <td>3</td>\n",
              "      <td>bad</td>\n",
              "      <td>98</td>\n",
              "      <td>9</td>\n",
              "      <td>45</td>\n",
              "    </tr>\n",
              "    <tr>\n",
              "      <th>3</th>\n",
              "      <td>love love love jumpsuit fun flirti fabul everi...</td>\n",
              "      <td>5</td>\n",
              "      <td>good</td>\n",
              "      <td>22</td>\n",
              "      <td>8</td>\n",
              "      <td>6</td>\n",
              "    </tr>\n",
              "    <tr>\n",
              "      <th>4</th>\n",
              "      <td>shirt flatter due adjust front tie perfect len...</td>\n",
              "      <td>5</td>\n",
              "      <td>good</td>\n",
              "      <td>36</td>\n",
              "      <td>5</td>\n",
              "      <td>19</td>\n",
              "    </tr>\n",
              "    <tr>\n",
              "      <th>...</th>\n",
              "      <td>...</td>\n",
              "      <td>...</td>\n",
              "      <td>...</td>\n",
              "      <td>...</td>\n",
              "      <td>...</td>\n",
              "      <td>...</td>\n",
              "    </tr>\n",
              "    <tr>\n",
              "      <th>23481</th>\n",
              "      <td>happi snag dress great price easi slip flatter...</td>\n",
              "      <td>5</td>\n",
              "      <td>good</td>\n",
              "      <td>28</td>\n",
              "      <td>2</td>\n",
              "      <td>16</td>\n",
              "    </tr>\n",
              "    <tr>\n",
              "      <th>23482</th>\n",
              "      <td>remind matern cloth soft stretchi shini materi...</td>\n",
              "      <td>3</td>\n",
              "      <td>bad</td>\n",
              "      <td>37</td>\n",
              "      <td>12</td>\n",
              "      <td>12</td>\n",
              "    </tr>\n",
              "    <tr>\n",
              "      <th>23483</th>\n",
              "      <td>fit well top see never would work im glad abl ...</td>\n",
              "      <td>3</td>\n",
              "      <td>bad</td>\n",
              "      <td>42</td>\n",
              "      <td>6</td>\n",
              "      <td>21</td>\n",
              "    </tr>\n",
              "    <tr>\n",
              "      <th>23484</th>\n",
              "      <td>bought dress wed summer cute unfortun fit isnt...</td>\n",
              "      <td>3</td>\n",
              "      <td>bad</td>\n",
              "      <td>86</td>\n",
              "      <td>9</td>\n",
              "      <td>46</td>\n",
              "    </tr>\n",
              "    <tr>\n",
              "      <th>23485</th>\n",
              "      <td>dress love platinum feminin fit perfectli easi...</td>\n",
              "      <td>5</td>\n",
              "      <td>good</td>\n",
              "      <td>19</td>\n",
              "      <td>4</td>\n",
              "      <td>6</td>\n",
              "    </tr>\n",
              "  </tbody>\n",
              "</table>\n",
              "<p>22641 rows × 6 columns</p>\n",
              "</div>"
            ],
            "text/plain": [
              "                                             Review Text  ...  stopwords_count\n",
              "0                      absolut wonder silki sexi comfort  ...                2\n",
              "1      love dress sooo pretti happen find store im gl...  ...               30\n",
              "2      high hope dress realli want work initi order p...  ...               45\n",
              "3      love love love jumpsuit fun flirti fabul everi...  ...                6\n",
              "4      shirt flatter due adjust front tie perfect len...  ...               19\n",
              "...                                                  ...  ...              ...\n",
              "23481  happi snag dress great price easi slip flatter...  ...               16\n",
              "23482  remind matern cloth soft stretchi shini materi...  ...               12\n",
              "23483  fit well top see never would work im glad abl ...  ...               21\n",
              "23484  bought dress wed summer cute unfortun fit isnt...  ...               46\n",
              "23485  dress love platinum feminin fit perfectli easi...  ...                6\n",
              "\n",
              "[22641 rows x 6 columns]"
            ]
          },
          "metadata": {
            "tags": []
          },
          "execution_count": 76
        }
      ]
    },
    {
      "cell_type": "code",
      "metadata": {
        "colab": {
          "base_uri": "https://localhost:8080/",
          "height": 195
        },
        "id": "_5SXQVb4_pWl",
        "outputId": "c51159f4-c1fe-4c79-f7aa-ed04900e1d0e"
      },
      "source": [
        "df.head()"
      ],
      "execution_count": 77,
      "outputs": [
        {
          "output_type": "execute_result",
          "data": {
            "text/html": [
              "<div>\n",
              "<style scoped>\n",
              "    .dataframe tbody tr th:only-of-type {\n",
              "        vertical-align: middle;\n",
              "    }\n",
              "\n",
              "    .dataframe tbody tr th {\n",
              "        vertical-align: top;\n",
              "    }\n",
              "\n",
              "    .dataframe thead th {\n",
              "        text-align: right;\n",
              "    }\n",
              "</style>\n",
              "<table border=\"1\" class=\"dataframe\">\n",
              "  <thead>\n",
              "    <tr style=\"text-align: right;\">\n",
              "      <th></th>\n",
              "      <th>Review Text</th>\n",
              "      <th>Rating</th>\n",
              "      <th>value</th>\n",
              "      <th>words_count</th>\n",
              "      <th>punct_count</th>\n",
              "      <th>stopwords_count</th>\n",
              "    </tr>\n",
              "  </thead>\n",
              "  <tbody>\n",
              "    <tr>\n",
              "      <th>0</th>\n",
              "      <td>absolut wonder silki sexi comfort</td>\n",
              "      <td>4</td>\n",
              "      <td>good</td>\n",
              "      <td>8</td>\n",
              "      <td>0</td>\n",
              "      <td>2</td>\n",
              "    </tr>\n",
              "    <tr>\n",
              "      <th>1</th>\n",
              "      <td>love dress sooo pretti happen find store im gl...</td>\n",
              "      <td>5</td>\n",
              "      <td>good</td>\n",
              "      <td>67</td>\n",
              "      <td>7</td>\n",
              "      <td>30</td>\n",
              "    </tr>\n",
              "    <tr>\n",
              "      <th>2</th>\n",
              "      <td>high hope dress realli want work initi order p...</td>\n",
              "      <td>3</td>\n",
              "      <td>bad</td>\n",
              "      <td>98</td>\n",
              "      <td>9</td>\n",
              "      <td>45</td>\n",
              "    </tr>\n",
              "    <tr>\n",
              "      <th>3</th>\n",
              "      <td>love love love jumpsuit fun flirti fabul everi...</td>\n",
              "      <td>5</td>\n",
              "      <td>good</td>\n",
              "      <td>22</td>\n",
              "      <td>8</td>\n",
              "      <td>6</td>\n",
              "    </tr>\n",
              "    <tr>\n",
              "      <th>4</th>\n",
              "      <td>shirt flatter due adjust front tie perfect len...</td>\n",
              "      <td>5</td>\n",
              "      <td>good</td>\n",
              "      <td>36</td>\n",
              "      <td>5</td>\n",
              "      <td>19</td>\n",
              "    </tr>\n",
              "  </tbody>\n",
              "</table>\n",
              "</div>"
            ],
            "text/plain": [
              "                                         Review Text  ...  stopwords_count\n",
              "0                  absolut wonder silki sexi comfort  ...                2\n",
              "1  love dress sooo pretti happen find store im gl...  ...               30\n",
              "2  high hope dress realli want work initi order p...  ...               45\n",
              "3  love love love jumpsuit fun flirti fabul everi...  ...                6\n",
              "4  shirt flatter due adjust front tie perfect len...  ...               19\n",
              "\n",
              "[5 rows x 6 columns]"
            ]
          },
          "metadata": {
            "tags": []
          },
          "execution_count": 77
        }
      ]
    },
    {
      "cell_type": "code",
      "metadata": {
        "id": "jCxYwn9MUDBx"
      },
      "source": [
        "\n"
      ],
      "execution_count": 77,
      "outputs": []
    },
    {
      "cell_type": "code",
      "metadata": {
        "colab": {
          "base_uri": "https://localhost:8080/",
          "height": 195
        },
        "id": "0jXP02HJ_tkx",
        "outputId": "124a5f3e-3299-4615-bc2f-385525a4cef4"
      },
      "source": [
        "# Create quick lambda functions to find the polarity and subjectivity of each speech\n",
        "from textblob import TextBlob\n",
        "\n",
        "pol = lambda x: TextBlob(x).sentiment.polarity\n",
        "sub = lambda x: TextBlob(x).sentiment.subjectivity\n",
        "\n",
        "df['polarity'] = df['Review Text'].apply(pol)\n",
        "df['subjectivity'] = df['Review Text'].apply(sub)\n",
        "df.head()"
      ],
      "execution_count": 78,
      "outputs": [
        {
          "output_type": "execute_result",
          "data": {
            "text/html": [
              "<div>\n",
              "<style scoped>\n",
              "    .dataframe tbody tr th:only-of-type {\n",
              "        vertical-align: middle;\n",
              "    }\n",
              "\n",
              "    .dataframe tbody tr th {\n",
              "        vertical-align: top;\n",
              "    }\n",
              "\n",
              "    .dataframe thead th {\n",
              "        text-align: right;\n",
              "    }\n",
              "</style>\n",
              "<table border=\"1\" class=\"dataframe\">\n",
              "  <thead>\n",
              "    <tr style=\"text-align: right;\">\n",
              "      <th></th>\n",
              "      <th>Review Text</th>\n",
              "      <th>Rating</th>\n",
              "      <th>value</th>\n",
              "      <th>words_count</th>\n",
              "      <th>punct_count</th>\n",
              "      <th>stopwords_count</th>\n",
              "      <th>polarity</th>\n",
              "      <th>subjectivity</th>\n",
              "    </tr>\n",
              "  </thead>\n",
              "  <tbody>\n",
              "    <tr>\n",
              "      <th>0</th>\n",
              "      <td>absolut wonder silki sexi comfort</td>\n",
              "      <td>4</td>\n",
              "      <td>good</td>\n",
              "      <td>8</td>\n",
              "      <td>0</td>\n",
              "      <td>2</td>\n",
              "      <td>0.000000</td>\n",
              "      <td>0.000000</td>\n",
              "    </tr>\n",
              "    <tr>\n",
              "      <th>1</th>\n",
              "      <td>love dress sooo pretti happen find store im gl...</td>\n",
              "      <td>5</td>\n",
              "      <td>good</td>\n",
              "      <td>67</td>\n",
              "      <td>7</td>\n",
              "      <td>30</td>\n",
              "      <td>0.462500</td>\n",
              "      <td>0.712500</td>\n",
              "    </tr>\n",
              "    <tr>\n",
              "      <th>2</th>\n",
              "      <td>high hope dress realli want work initi order p...</td>\n",
              "      <td>3</td>\n",
              "      <td>bad</td>\n",
              "      <td>98</td>\n",
              "      <td>9</td>\n",
              "      <td>45</td>\n",
              "      <td>0.069412</td>\n",
              "      <td>0.388065</td>\n",
              "    </tr>\n",
              "    <tr>\n",
              "      <th>3</th>\n",
              "      <td>love love love jumpsuit fun flirti fabul everi...</td>\n",
              "      <td>5</td>\n",
              "      <td>good</td>\n",
              "      <td>22</td>\n",
              "      <td>8</td>\n",
              "      <td>6</td>\n",
              "      <td>0.520000</td>\n",
              "      <td>0.550000</td>\n",
              "    </tr>\n",
              "    <tr>\n",
              "      <th>4</th>\n",
              "      <td>shirt flatter due adjust front tie perfect len...</td>\n",
              "      <td>5</td>\n",
              "      <td>good</td>\n",
              "      <td>36</td>\n",
              "      <td>5</td>\n",
              "      <td>19</td>\n",
              "      <td>0.458333</td>\n",
              "      <td>0.658333</td>\n",
              "    </tr>\n",
              "  </tbody>\n",
              "</table>\n",
              "</div>"
            ],
            "text/plain": [
              "                                         Review Text  ...  subjectivity\n",
              "0                  absolut wonder silki sexi comfort  ...      0.000000\n",
              "1  love dress sooo pretti happen find store im gl...  ...      0.712500\n",
              "2  high hope dress realli want work initi order p...  ...      0.388065\n",
              "3  love love love jumpsuit fun flirti fabul everi...  ...      0.550000\n",
              "4  shirt flatter due adjust front tie perfect len...  ...      0.658333\n",
              "\n",
              "[5 rows x 8 columns]"
            ]
          },
          "metadata": {
            "tags": []
          },
          "execution_count": 78
        }
      ]
    },
    {
      "cell_type": "code",
      "metadata": {
        "id": "vuMsVEkLBbTf"
      },
      "source": [
        "def getSIA(text):\n",
        "  sia=SentimentIntensityAnalyzer()\n",
        "  sentiment=sia.polarity_scores(text)\n",
        "  return sentiment"
      ],
      "execution_count": 79,
      "outputs": []
    },
    {
      "cell_type": "code",
      "metadata": {
        "colab": {
          "base_uri": "https://localhost:8080/"
        },
        "id": "T7pUapuuEBIN",
        "outputId": "6d4a316a-631d-4aff-9f43-37a9ed1130d1"
      },
      "source": [
        "getSIA(\"michel is a good person\")"
      ],
      "execution_count": 80,
      "outputs": [
        {
          "output_type": "execute_result",
          "data": {
            "text/plain": [
              "{'compound': 0.4404, 'neg': 0.0, 'neu': 0.58, 'pos': 0.42}"
            ]
          },
          "metadata": {
            "tags": []
          },
          "execution_count": 80
        }
      ]
    },
    {
      "cell_type": "code",
      "metadata": {
        "id": "zxHic9LPG6-R"
      },
      "source": [
        "df=df.reset_index()"
      ],
      "execution_count": 81,
      "outputs": []
    },
    {
      "cell_type": "code",
      "metadata": {
        "colab": {
          "base_uri": "https://localhost:8080/",
          "height": 402
        },
        "id": "XboB1-Olgxau",
        "outputId": "7ea15bbf-7570-4a6f-f988-8a38bce9c41f"
      },
      "source": [
        "df"
      ],
      "execution_count": 82,
      "outputs": [
        {
          "output_type": "execute_result",
          "data": {
            "text/html": [
              "<div>\n",
              "<style scoped>\n",
              "    .dataframe tbody tr th:only-of-type {\n",
              "        vertical-align: middle;\n",
              "    }\n",
              "\n",
              "    .dataframe tbody tr th {\n",
              "        vertical-align: top;\n",
              "    }\n",
              "\n",
              "    .dataframe thead th {\n",
              "        text-align: right;\n",
              "    }\n",
              "</style>\n",
              "<table border=\"1\" class=\"dataframe\">\n",
              "  <thead>\n",
              "    <tr style=\"text-align: right;\">\n",
              "      <th></th>\n",
              "      <th>index</th>\n",
              "      <th>Review Text</th>\n",
              "      <th>Rating</th>\n",
              "      <th>value</th>\n",
              "      <th>words_count</th>\n",
              "      <th>punct_count</th>\n",
              "      <th>stopwords_count</th>\n",
              "      <th>polarity</th>\n",
              "      <th>subjectivity</th>\n",
              "    </tr>\n",
              "  </thead>\n",
              "  <tbody>\n",
              "    <tr>\n",
              "      <th>0</th>\n",
              "      <td>0</td>\n",
              "      <td>absolut wonder silki sexi comfort</td>\n",
              "      <td>4</td>\n",
              "      <td>good</td>\n",
              "      <td>8</td>\n",
              "      <td>0</td>\n",
              "      <td>2</td>\n",
              "      <td>0.000000</td>\n",
              "      <td>0.000000</td>\n",
              "    </tr>\n",
              "    <tr>\n",
              "      <th>1</th>\n",
              "      <td>1</td>\n",
              "      <td>love dress sooo pretti happen find store im gl...</td>\n",
              "      <td>5</td>\n",
              "      <td>good</td>\n",
              "      <td>67</td>\n",
              "      <td>7</td>\n",
              "      <td>30</td>\n",
              "      <td>0.462500</td>\n",
              "      <td>0.712500</td>\n",
              "    </tr>\n",
              "    <tr>\n",
              "      <th>2</th>\n",
              "      <td>2</td>\n",
              "      <td>high hope dress realli want work initi order p...</td>\n",
              "      <td>3</td>\n",
              "      <td>bad</td>\n",
              "      <td>98</td>\n",
              "      <td>9</td>\n",
              "      <td>45</td>\n",
              "      <td>0.069412</td>\n",
              "      <td>0.388065</td>\n",
              "    </tr>\n",
              "    <tr>\n",
              "      <th>3</th>\n",
              "      <td>3</td>\n",
              "      <td>love love love jumpsuit fun flirti fabul everi...</td>\n",
              "      <td>5</td>\n",
              "      <td>good</td>\n",
              "      <td>22</td>\n",
              "      <td>8</td>\n",
              "      <td>6</td>\n",
              "      <td>0.520000</td>\n",
              "      <td>0.550000</td>\n",
              "    </tr>\n",
              "    <tr>\n",
              "      <th>4</th>\n",
              "      <td>4</td>\n",
              "      <td>shirt flatter due adjust front tie perfect len...</td>\n",
              "      <td>5</td>\n",
              "      <td>good</td>\n",
              "      <td>36</td>\n",
              "      <td>5</td>\n",
              "      <td>19</td>\n",
              "      <td>0.458333</td>\n",
              "      <td>0.658333</td>\n",
              "    </tr>\n",
              "    <tr>\n",
              "      <th>...</th>\n",
              "      <td>...</td>\n",
              "      <td>...</td>\n",
              "      <td>...</td>\n",
              "      <td>...</td>\n",
              "      <td>...</td>\n",
              "      <td>...</td>\n",
              "      <td>...</td>\n",
              "      <td>...</td>\n",
              "      <td>...</td>\n",
              "    </tr>\n",
              "    <tr>\n",
              "      <th>22636</th>\n",
              "      <td>23481</td>\n",
              "      <td>happi snag dress great price easi slip flatter...</td>\n",
              "      <td>5</td>\n",
              "      <td>good</td>\n",
              "      <td>28</td>\n",
              "      <td>2</td>\n",
              "      <td>16</td>\n",
              "      <td>0.800000</td>\n",
              "      <td>0.750000</td>\n",
              "    </tr>\n",
              "    <tr>\n",
              "      <th>22637</th>\n",
              "      <td>23482</td>\n",
              "      <td>remind matern cloth soft stretchi shini materi...</td>\n",
              "      <td>3</td>\n",
              "      <td>bad</td>\n",
              "      <td>37</td>\n",
              "      <td>12</td>\n",
              "      <td>12</td>\n",
              "      <td>0.146429</td>\n",
              "      <td>0.660714</td>\n",
              "    </tr>\n",
              "    <tr>\n",
              "      <th>22638</th>\n",
              "      <td>23483</td>\n",
              "      <td>fit well top see never would work im glad abl ...</td>\n",
              "      <td>3</td>\n",
              "      <td>bad</td>\n",
              "      <td>42</td>\n",
              "      <td>6</td>\n",
              "      <td>21</td>\n",
              "      <td>0.550000</td>\n",
              "      <td>0.662500</td>\n",
              "    </tr>\n",
              "    <tr>\n",
              "      <th>22639</th>\n",
              "      <td>23484</td>\n",
              "      <td>bought dress wed summer cute unfortun fit isnt...</td>\n",
              "      <td>3</td>\n",
              "      <td>bad</td>\n",
              "      <td>86</td>\n",
              "      <td>9</td>\n",
              "      <td>46</td>\n",
              "      <td>0.343750</td>\n",
              "      <td>0.450000</td>\n",
              "    </tr>\n",
              "    <tr>\n",
              "      <th>22640</th>\n",
              "      <td>23485</td>\n",
              "      <td>dress love platinum feminin fit perfectli easi...</td>\n",
              "      <td>5</td>\n",
              "      <td>good</td>\n",
              "      <td>19</td>\n",
              "      <td>4</td>\n",
              "      <td>6</td>\n",
              "      <td>0.450000</td>\n",
              "      <td>0.500000</td>\n",
              "    </tr>\n",
              "  </tbody>\n",
              "</table>\n",
              "<p>22641 rows × 9 columns</p>\n",
              "</div>"
            ],
            "text/plain": [
              "       index  ... subjectivity\n",
              "0          0  ...     0.000000\n",
              "1          1  ...     0.712500\n",
              "2          2  ...     0.388065\n",
              "3          3  ...     0.550000\n",
              "4          4  ...     0.658333\n",
              "...      ...  ...          ...\n",
              "22636  23481  ...     0.750000\n",
              "22637  23482  ...     0.660714\n",
              "22638  23483  ...     0.662500\n",
              "22639  23484  ...     0.450000\n",
              "22640  23485  ...     0.500000\n",
              "\n",
              "[22641 rows x 9 columns]"
            ]
          },
          "metadata": {
            "tags": []
          },
          "execution_count": 82
        }
      ]
    },
    {
      "cell_type": "code",
      "metadata": {
        "id": "LI7Qf4uNJKiZ"
      },
      "source": [
        "df.drop(columns=[\"index\"],inplace=True)"
      ],
      "execution_count": 83,
      "outputs": []
    },
    {
      "cell_type": "code",
      "metadata": {
        "colab": {
          "base_uri": "https://localhost:8080/",
          "height": 402
        },
        "id": "R2JSp9jQg56R",
        "outputId": "b471eef7-d19a-4395-f1b9-16143d0df992"
      },
      "source": [
        "df"
      ],
      "execution_count": 84,
      "outputs": [
        {
          "output_type": "execute_result",
          "data": {
            "text/html": [
              "<div>\n",
              "<style scoped>\n",
              "    .dataframe tbody tr th:only-of-type {\n",
              "        vertical-align: middle;\n",
              "    }\n",
              "\n",
              "    .dataframe tbody tr th {\n",
              "        vertical-align: top;\n",
              "    }\n",
              "\n",
              "    .dataframe thead th {\n",
              "        text-align: right;\n",
              "    }\n",
              "</style>\n",
              "<table border=\"1\" class=\"dataframe\">\n",
              "  <thead>\n",
              "    <tr style=\"text-align: right;\">\n",
              "      <th></th>\n",
              "      <th>Review Text</th>\n",
              "      <th>Rating</th>\n",
              "      <th>value</th>\n",
              "      <th>words_count</th>\n",
              "      <th>punct_count</th>\n",
              "      <th>stopwords_count</th>\n",
              "      <th>polarity</th>\n",
              "      <th>subjectivity</th>\n",
              "    </tr>\n",
              "  </thead>\n",
              "  <tbody>\n",
              "    <tr>\n",
              "      <th>0</th>\n",
              "      <td>absolut wonder silki sexi comfort</td>\n",
              "      <td>4</td>\n",
              "      <td>good</td>\n",
              "      <td>8</td>\n",
              "      <td>0</td>\n",
              "      <td>2</td>\n",
              "      <td>0.000000</td>\n",
              "      <td>0.000000</td>\n",
              "    </tr>\n",
              "    <tr>\n",
              "      <th>1</th>\n",
              "      <td>love dress sooo pretti happen find store im gl...</td>\n",
              "      <td>5</td>\n",
              "      <td>good</td>\n",
              "      <td>67</td>\n",
              "      <td>7</td>\n",
              "      <td>30</td>\n",
              "      <td>0.462500</td>\n",
              "      <td>0.712500</td>\n",
              "    </tr>\n",
              "    <tr>\n",
              "      <th>2</th>\n",
              "      <td>high hope dress realli want work initi order p...</td>\n",
              "      <td>3</td>\n",
              "      <td>bad</td>\n",
              "      <td>98</td>\n",
              "      <td>9</td>\n",
              "      <td>45</td>\n",
              "      <td>0.069412</td>\n",
              "      <td>0.388065</td>\n",
              "    </tr>\n",
              "    <tr>\n",
              "      <th>3</th>\n",
              "      <td>love love love jumpsuit fun flirti fabul everi...</td>\n",
              "      <td>5</td>\n",
              "      <td>good</td>\n",
              "      <td>22</td>\n",
              "      <td>8</td>\n",
              "      <td>6</td>\n",
              "      <td>0.520000</td>\n",
              "      <td>0.550000</td>\n",
              "    </tr>\n",
              "    <tr>\n",
              "      <th>4</th>\n",
              "      <td>shirt flatter due adjust front tie perfect len...</td>\n",
              "      <td>5</td>\n",
              "      <td>good</td>\n",
              "      <td>36</td>\n",
              "      <td>5</td>\n",
              "      <td>19</td>\n",
              "      <td>0.458333</td>\n",
              "      <td>0.658333</td>\n",
              "    </tr>\n",
              "    <tr>\n",
              "      <th>...</th>\n",
              "      <td>...</td>\n",
              "      <td>...</td>\n",
              "      <td>...</td>\n",
              "      <td>...</td>\n",
              "      <td>...</td>\n",
              "      <td>...</td>\n",
              "      <td>...</td>\n",
              "      <td>...</td>\n",
              "    </tr>\n",
              "    <tr>\n",
              "      <th>22636</th>\n",
              "      <td>happi snag dress great price easi slip flatter...</td>\n",
              "      <td>5</td>\n",
              "      <td>good</td>\n",
              "      <td>28</td>\n",
              "      <td>2</td>\n",
              "      <td>16</td>\n",
              "      <td>0.800000</td>\n",
              "      <td>0.750000</td>\n",
              "    </tr>\n",
              "    <tr>\n",
              "      <th>22637</th>\n",
              "      <td>remind matern cloth soft stretchi shini materi...</td>\n",
              "      <td>3</td>\n",
              "      <td>bad</td>\n",
              "      <td>37</td>\n",
              "      <td>12</td>\n",
              "      <td>12</td>\n",
              "      <td>0.146429</td>\n",
              "      <td>0.660714</td>\n",
              "    </tr>\n",
              "    <tr>\n",
              "      <th>22638</th>\n",
              "      <td>fit well top see never would work im glad abl ...</td>\n",
              "      <td>3</td>\n",
              "      <td>bad</td>\n",
              "      <td>42</td>\n",
              "      <td>6</td>\n",
              "      <td>21</td>\n",
              "      <td>0.550000</td>\n",
              "      <td>0.662500</td>\n",
              "    </tr>\n",
              "    <tr>\n",
              "      <th>22639</th>\n",
              "      <td>bought dress wed summer cute unfortun fit isnt...</td>\n",
              "      <td>3</td>\n",
              "      <td>bad</td>\n",
              "      <td>86</td>\n",
              "      <td>9</td>\n",
              "      <td>46</td>\n",
              "      <td>0.343750</td>\n",
              "      <td>0.450000</td>\n",
              "    </tr>\n",
              "    <tr>\n",
              "      <th>22640</th>\n",
              "      <td>dress love platinum feminin fit perfectli easi...</td>\n",
              "      <td>5</td>\n",
              "      <td>good</td>\n",
              "      <td>19</td>\n",
              "      <td>4</td>\n",
              "      <td>6</td>\n",
              "      <td>0.450000</td>\n",
              "      <td>0.500000</td>\n",
              "    </tr>\n",
              "  </tbody>\n",
              "</table>\n",
              "<p>22641 rows × 8 columns</p>\n",
              "</div>"
            ],
            "text/plain": [
              "                                             Review Text  ...  subjectivity\n",
              "0                      absolut wonder silki sexi comfort  ...      0.000000\n",
              "1      love dress sooo pretti happen find store im gl...  ...      0.712500\n",
              "2      high hope dress realli want work initi order p...  ...      0.388065\n",
              "3      love love love jumpsuit fun flirti fabul everi...  ...      0.550000\n",
              "4      shirt flatter due adjust front tie perfect len...  ...      0.658333\n",
              "...                                                  ...  ...           ...\n",
              "22636  happi snag dress great price easi slip flatter...  ...      0.750000\n",
              "22637  remind matern cloth soft stretchi shini materi...  ...      0.660714\n",
              "22638  fit well top see never would work im glad abl ...  ...      0.662500\n",
              "22639  bought dress wed summer cute unfortun fit isnt...  ...      0.450000\n",
              "22640  dress love platinum feminin fit perfectli easi...  ...      0.500000\n",
              "\n",
              "[22641 rows x 8 columns]"
            ]
          },
          "metadata": {
            "tags": []
          },
          "execution_count": 84
        }
      ]
    },
    {
      "cell_type": "code",
      "metadata": {
        "id": "jMwB_pWxDIeZ"
      },
      "source": [
        "\n",
        "\n",
        "compound=[]\n",
        "neg=[]\n",
        "pos=[]\n",
        "neu=[]\n",
        "SIA=0\n",
        "for i in range(0,len(df[\"Review Text\"])):\n",
        "  SIA = getSIA(df[\"Review Text\"][i])\n",
        "  compound.append(SIA['compound'])\n",
        "  neg.append(SIA['neg'])\n",
        "  neu.append(SIA['neu'])\n",
        "  pos.append(SIA['pos'])"
      ],
      "execution_count": 85,
      "outputs": []
    },
    {
      "cell_type": "code",
      "metadata": {
        "id": "VgCg8wSaIOkw"
      },
      "source": [
        "df[\"compound\"]=compound\n",
        "df[\"neg\"]=neg\n",
        "df[\"neu\"]=neu\n",
        "df[\"pos\"]=pos\n"
      ],
      "execution_count": 86,
      "outputs": []
    },
    {
      "cell_type": "code",
      "metadata": {
        "colab": {
          "base_uri": "https://localhost:8080/"
        },
        "id": "a_XnwvvIIhe6",
        "outputId": "c3fb4782-8b2b-4c18-c432-19f462854be9"
      },
      "source": [
        "df['neg'].sort_values(ascending=False)"
      ],
      "execution_count": 129,
      "outputs": [
        {
          "output_type": "execute_result",
          "data": {
            "text/plain": [
              "10819    0.655\n",
              "4933     0.574\n",
              "5389     0.565\n",
              "14222    0.545\n",
              "14264    0.531\n",
              "         ...  \n",
              "13048    0.000\n",
              "13047    0.000\n",
              "13046    0.000\n",
              "13044    0.000\n",
              "0        0.000\n",
              "Name: neg, Length: 22641, dtype: float64"
            ]
          },
          "metadata": {
            "tags": []
          },
          "execution_count": 129
        }
      ]
    },
    {
      "cell_type": "code",
      "metadata": {
        "id": "WJCExyw-VFxA",
        "outputId": "45f5e796-4187-422e-9e88-a090a1bb271c",
        "colab": {
          "base_uri": "https://localhost:8080/"
        }
      },
      "source": [
        "df.iloc[10819]"
      ],
      "execution_count": 130,
      "outputs": [
        {
          "output_type": "execute_result",
          "data": {
            "text/plain": [
              "Review Text        low waist weird liner\n",
              "Rating                                 3\n",
              "value                                bad\n",
              "words_count                            4\n",
              "punct_count                            2\n",
              "stopwords_count                        0\n",
              "polarity                           -0.25\n",
              "subjectivity                        0.65\n",
              "compound                         -0.4215\n",
              "neg                                0.655\n",
              "neu                                0.345\n",
              "pos                                    0\n",
              "Name: 10819, dtype: object"
            ]
          },
          "metadata": {
            "tags": []
          },
          "execution_count": 130
        }
      ]
    },
    {
      "cell_type": "code",
      "metadata": {
        "id": "Oy4UVEWpIq1g"
      },
      "source": [
        "from sklearn.feature_extraction.text import TfidfVectorizer\n",
        "tfidf = TfidfVectorizer(max_features=2000)\n",
        "X=tfidf.fit_transform(df['Review Text'])"
      ],
      "execution_count": 88,
      "outputs": []
    },
    {
      "cell_type": "code",
      "metadata": {
        "colab": {
          "base_uri": "https://localhost:8080/"
        },
        "id": "MD7aZQ1pJhCX",
        "outputId": "81c25f3f-fb93-49d9-9792-1536a22a9fec"
      },
      "source": [
        "new_features = df[['words_count','punct_count','stopwords_count','polarity'\t,'subjectivity',\t'compound',\t'neg'\t,'neu',\t'pos']].to_numpy()\n",
        "new_features"
      ],
      "execution_count": 89,
      "outputs": [
        {
          "output_type": "execute_result",
          "data": {
            "text/plain": [
              "array([[ 8.   ,  0.   ,  2.   , ...,  0.   ,  0.615,  0.385],\n",
              "       [67.   ,  7.   , 30.   , ...,  0.   ,  0.647,  0.353],\n",
              "       [98.   ,  9.   , 45.   , ...,  0.   ,  0.719,  0.281],\n",
              "       ...,\n",
              "       [42.   ,  6.   , 21.   , ...,  0.   ,  0.509,  0.491],\n",
              "       [86.   ,  9.   , 46.   , ...,  0.108,  0.655,  0.237],\n",
              "       [19.   ,  4.   ,  6.   , ...,  0.   ,  0.465,  0.535]])"
            ]
          },
          "metadata": {
            "tags": []
          },
          "execution_count": 89
        }
      ]
    },
    {
      "cell_type": "code",
      "metadata": {
        "id": "WjdJc4hUKhCv"
      },
      "source": [
        "new_x = np.concatenate((X.toarray(),new_features), axis=1)"
      ],
      "execution_count": 90,
      "outputs": []
    },
    {
      "cell_type": "code",
      "metadata": {
        "colab": {
          "base_uri": "https://localhost:8080/"
        },
        "id": "2ECt2pRTKlvZ",
        "outputId": "5fb0fe65-dea4-4259-d28c-3dc1a03c8c14"
      },
      "source": [
        "new_x.shape"
      ],
      "execution_count": 91,
      "outputs": [
        {
          "output_type": "execute_result",
          "data": {
            "text/plain": [
              "(22641, 2009)"
            ]
          },
          "metadata": {
            "tags": []
          },
          "execution_count": 91
        }
      ]
    },
    {
      "cell_type": "code",
      "metadata": {
        "colab": {
          "base_uri": "https://localhost:8080/"
        },
        "id": "NRxXMb8RK1Wm",
        "outputId": "9e8f3425-c78b-4703-e811-ccbf7b893678"
      },
      "source": [
        "from sklearn.preprocessing import LabelEncoder\n",
        "encoder = LabelEncoder()\n",
        "y = encoder.fit_transform(df[['value']])\n",
        "y"
      ],
      "execution_count": 92,
      "outputs": [
        {
          "output_type": "execute_result",
          "data": {
            "text/plain": [
              "array([1, 1, 0, ..., 0, 0, 1])"
            ]
          },
          "metadata": {
            "tags": []
          },
          "execution_count": 92
        }
      ]
    },
    {
      "cell_type": "code",
      "metadata": {
        "id": "dIKyFhaaXnmG"
      },
      "source": [
        " from sklearn import preprocessing\n",
        "scaler=preprocessing.StandardScaler().fit(new_x)\n",
        "new_x=scaler.transform(new_x)\n",
        "\n"
      ],
      "execution_count": 93,
      "outputs": []
    },
    {
      "cell_type": "code",
      "metadata": {
        "id": "1JP-ZzBOB_7X"
      },
      "source": [
        "from imblearn.over_sampling import SMOTE\n",
        "\n",
        "# Resample the minority class. You can change the strategy to 'auto' if you are not sure.\n",
        "sm = SMOTE(sampling_strategy='minority', random_state=7)\n",
        "\n",
        "# Fit the model to generate the data.\n",
        "oversampled_trainX, oversampled_trainY = sm.fit_sample(new_x, y)\n"
      ],
      "execution_count": 94,
      "outputs": []
    },
    {
      "cell_type": "code",
      "metadata": {
        "colab": {
          "base_uri": "https://localhost:8080/"
        },
        "id": "N5Yn2EwhCaJ5",
        "outputId": "b28ee52b-6e7d-40fa-c977-7d97df3b7a83"
      },
      "source": [
        "count1=0\n",
        "count2=0\n",
        "for i in oversampled_trainY:\n",
        "  if i ==1:\n",
        "    count1+=1\n",
        "  else:\n",
        "    count2+=1\n",
        "print(count1)\n",
        "print(count2)\n",
        "\n"
      ],
      "execution_count": 95,
      "outputs": [
        {
          "output_type": "stream",
          "text": [
            "17448\n",
            "17448\n"
          ],
          "name": "stdout"
        }
      ]
    },
    {
      "cell_type": "code",
      "metadata": {
        "id": "H55rstg6LAER"
      },
      "source": [
        "from sklearn.model_selection import train_test_split\n",
        "X_train, X_test, y_train, y_test = train_test_split(oversampled_trainX,oversampled_trainY,train_size=0.8)"
      ],
      "execution_count": 96,
      "outputs": []
    },
    {
      "cell_type": "code",
      "metadata": {
        "colab": {
          "base_uri": "https://localhost:8080/"
        },
        "id": "SX74gMCZLDzK",
        "outputId": "74224431-b865-4910-b4c9-dffe12d29d57"
      },
      "source": [
        "X_train.shape, X_test.shape, y_train.shape, y_test.shape"
      ],
      "execution_count": 97,
      "outputs": [
        {
          "output_type": "execute_result",
          "data": {
            "text/plain": [
              "((27916, 2009), (6980, 2009), (27916,), (6980,))"
            ]
          },
          "metadata": {
            "tags": []
          },
          "execution_count": 97
        }
      ]
    },
    {
      "cell_type": "code",
      "metadata": {
        "colab": {
          "base_uri": "https://localhost:8080/"
        },
        "id": "UPaVUUsjdmR4",
        "outputId": "7c0cfbaa-cd03-44c4-9ea4-21fac4e7ad36"
      },
      "source": [
        "X_train[0].dtype"
      ],
      "execution_count": 98,
      "outputs": [
        {
          "output_type": "execute_result",
          "data": {
            "text/plain": [
              "dtype('float64')"
            ]
          },
          "metadata": {
            "tags": []
          },
          "execution_count": 98
        }
      ]
    },
    {
      "cell_type": "code",
      "metadata": {
        "id": "3kCWhWo4LJfe"
      },
      "source": [
        "from tensorflow import keras\n",
        "from tensorflow.keras.models import Sequential\n",
        "from tensorflow.keras.layers import Input, Dense"
      ],
      "execution_count": 99,
      "outputs": []
    },
    {
      "cell_type": "code",
      "metadata": {
        "id": "kq94gW61LL-D"
      },
      "source": [
        "model = Sequential()\n",
        "model.add(Input(shape=2009))\n",
        "model.add(Dense(1000))\n",
        "model.add(Dense(100))\n",
        "model.add(Dense(1, activation='sigmoid'))"
      ],
      "execution_count": 100,
      "outputs": []
    },
    {
      "cell_type": "code",
      "metadata": {
        "colab": {
          "base_uri": "https://localhost:8080/"
        },
        "id": "8aqI8UgnLNcu",
        "outputId": "c9b6f541-9961-48ab-d9d9-d5041d5aff3d"
      },
      "source": [
        "model.summary()"
      ],
      "execution_count": 101,
      "outputs": [
        {
          "output_type": "stream",
          "text": [
            "Model: \"sequential_1\"\n",
            "_________________________________________________________________\n",
            "Layer (type)                 Output Shape              Param #   \n",
            "=================================================================\n",
            "dense_3 (Dense)              (None, 1000)              2010000   \n",
            "_________________________________________________________________\n",
            "dense_4 (Dense)              (None, 100)               100100    \n",
            "_________________________________________________________________\n",
            "dense_5 (Dense)              (None, 1)                 101       \n",
            "=================================================================\n",
            "Total params: 2,110,201\n",
            "Trainable params: 2,110,201\n",
            "Non-trainable params: 0\n",
            "_________________________________________________________________\n"
          ],
          "name": "stdout"
        }
      ]
    },
    {
      "cell_type": "code",
      "metadata": {
        "id": "SogmWv2cLNm8"
      },
      "source": [
        "model.compile(loss='binary_crossentropy', metrics=['accuracy'])"
      ],
      "execution_count": 102,
      "outputs": []
    },
    {
      "cell_type": "code",
      "metadata": {
        "colab": {
          "base_uri": "https://localhost:8080/"
        },
        "id": "eEYW05TsLikq",
        "outputId": "dab0b762-9f12-472f-c046-8a62910bb368"
      },
      "source": [
        "model.fit(X_train, y_train, epochs=20, validation_data=(X_test, y_test),batch_size=256)"
      ],
      "execution_count": 103,
      "outputs": [
        {
          "output_type": "stream",
          "text": [
            "Epoch 1/20\n",
            "110/110 [==============================] - 9s 77ms/step - loss: 0.6571 - accuracy: 0.7673 - val_loss: 0.4462 - val_accuracy: 0.8542\n",
            "Epoch 2/20\n",
            "110/110 [==============================] - 10s 91ms/step - loss: 0.3623 - accuracy: 0.8603 - val_loss: 0.4055 - val_accuracy: 0.8572\n",
            "Epoch 3/20\n",
            "110/110 [==============================] - 8s 72ms/step - loss: 0.3166 - accuracy: 0.8800 - val_loss: 0.3519 - val_accuracy: 0.8629\n",
            "Epoch 4/20\n",
            "110/110 [==============================] - 7s 67ms/step - loss: 0.2975 - accuracy: 0.8853 - val_loss: 0.4973 - val_accuracy: 0.7576\n",
            "Epoch 5/20\n",
            "110/110 [==============================] - 7s 67ms/step - loss: 0.2938 - accuracy: 0.8846 - val_loss: 0.3463 - val_accuracy: 0.8668\n",
            "Epoch 6/20\n",
            "110/110 [==============================] - 7s 67ms/step - loss: 0.2698 - accuracy: 0.8968 - val_loss: 0.3420 - val_accuracy: 0.8564\n",
            "Epoch 7/20\n",
            "110/110 [==============================] - 7s 68ms/step - loss: 0.2661 - accuracy: 0.8992 - val_loss: 0.3311 - val_accuracy: 0.8782\n",
            "Epoch 8/20\n",
            "110/110 [==============================] - 7s 67ms/step - loss: 0.2582 - accuracy: 0.9005 - val_loss: 0.3198 - val_accuracy: 0.8774\n",
            "Epoch 9/20\n",
            "110/110 [==============================] - 7s 67ms/step - loss: 0.2543 - accuracy: 0.9041 - val_loss: 0.3126 - val_accuracy: 0.8734\n",
            "Epoch 10/20\n",
            "110/110 [==============================] - 8s 68ms/step - loss: 0.2573 - accuracy: 0.9059 - val_loss: 0.3351 - val_accuracy: 0.8782\n",
            "Epoch 11/20\n",
            "110/110 [==============================] - 7s 68ms/step - loss: 0.2481 - accuracy: 0.9064 - val_loss: 0.3133 - val_accuracy: 0.8817\n",
            "Epoch 12/20\n",
            "110/110 [==============================] - 7s 67ms/step - loss: 0.2500 - accuracy: 0.9048 - val_loss: 0.3185 - val_accuracy: 0.8731\n",
            "Epoch 13/20\n",
            "110/110 [==============================] - 7s 67ms/step - loss: 0.2446 - accuracy: 0.9062 - val_loss: 0.3164 - val_accuracy: 0.8758\n",
            "Epoch 14/20\n",
            "110/110 [==============================] - 7s 67ms/step - loss: 0.2460 - accuracy: 0.9073 - val_loss: 0.3358 - val_accuracy: 0.8799\n",
            "Epoch 15/20\n",
            "110/110 [==============================] - 7s 68ms/step - loss: 0.2468 - accuracy: 0.9091 - val_loss: 0.3014 - val_accuracy: 0.8819\n",
            "Epoch 16/20\n",
            "110/110 [==============================] - 7s 67ms/step - loss: 0.2398 - accuracy: 0.9099 - val_loss: 0.3187 - val_accuracy: 0.8812\n",
            "Epoch 17/20\n",
            "110/110 [==============================] - 7s 67ms/step - loss: 0.2391 - accuracy: 0.9126 - val_loss: 0.3026 - val_accuracy: 0.8812\n",
            "Epoch 18/20\n",
            "110/110 [==============================] - 7s 67ms/step - loss: 0.2410 - accuracy: 0.9105 - val_loss: 0.3406 - val_accuracy: 0.8764\n",
            "Epoch 19/20\n",
            "110/110 [==============================] - 7s 67ms/step - loss: 0.2423 - accuracy: 0.9071 - val_loss: 0.3474 - val_accuracy: 0.8808\n",
            "Epoch 20/20\n",
            "110/110 [==============================] - 7s 67ms/step - loss: 0.2400 - accuracy: 0.9103 - val_loss: 0.3178 - val_accuracy: 0.8821\n"
          ],
          "name": "stdout"
        },
        {
          "output_type": "execute_result",
          "data": {
            "text/plain": [
              "<tensorflow.python.keras.callbacks.History at 0x7fdd6fc65250>"
            ]
          },
          "metadata": {
            "tags": []
          },
          "execution_count": 103
        }
      ]
    },
    {
      "cell_type": "code",
      "metadata": {
        "id": "teKhzwMkNsjW"
      },
      "source": [
        "                                          \n",
        "\n",
        "stemmer = nltk.stem.porter.PorterStemmer()\n",
        "stopwords = nltk.corpus.stopwords.words('english')\n",
        "def clean_text(text): \n",
        "    '''Make text lowercase, remove text in square brackets, remove punctuation and remove words containing numbers and remove end of lines.'''\n",
        "    text = text.lower()\n",
        "    text = re.sub('\\[.*?\\]', '', text)\n",
        "    text = re.sub('[%s]' % re.escape(string.punctuation), '', text)\n",
        "    text = re.sub('\\w*\\d\\w*', '', text)\n",
        "    text = re.sub('[‘’“”…]', '', text)\n",
        "    text = re.sub('\\n', '', text)\n",
        "    tokenized_text = nltk.tokenize.word_tokenize(text.lower())\n",
        "    alphabetic_text = [w for w in tokenized_text if w.isalpha()]\n",
        "    alphabetic_text\n",
        "    text = [w for w in alphabetic_text if w not in stopwords]\n",
        "    stemmed = [stemmer.stem(w) for w in text]\n",
        "    new_text = ' '.join(stemmed)\n",
        "    return new_text"
      ],
      "execution_count": 104,
      "outputs": []
    },
    {
      "cell_type": "code",
      "metadata": {
        "colab": {
          "base_uri": "https://localhost:8080/"
        },
        "id": "DuIAl7BZix5L",
        "outputId": "2e27df94-63ea-41ad-b020-fc97a0311ee2"
      },
      "source": [
        "TextBlob(\"hello\").sentiment.subjectivity"
      ],
      "execution_count": 105,
      "outputs": [
        {
          "output_type": "execute_result",
          "data": {
            "text/plain": [
              "0.0"
            ]
          },
          "metadata": {
            "tags": []
          },
          "execution_count": 105
        }
      ]
    },
    {
      "cell_type": "code",
      "metadata": {
        "colab": {
          "base_uri": "https://localhost:8080/"
        },
        "id": "APtFCyQJQItB",
        "outputId": "9117cf2c-976d-4ce9-8320-7c6da1559e06"
      },
      "source": [
        "model.evaluate(X_test,y_test)[1]"
      ],
      "execution_count": 106,
      "outputs": [
        {
          "output_type": "stream",
          "text": [
            "219/219 [==============================] - 1s 6ms/step - loss: 0.3178 - accuracy: 0.8821\n"
          ],
          "name": "stdout"
        },
        {
          "output_type": "execute_result",
          "data": {
            "text/plain": [
              "0.8820917010307312"
            ]
          },
          "metadata": {
            "tags": []
          },
          "execution_count": 106
        }
      ]
    },
    {
      "cell_type": "code",
      "metadata": {
        "id": "7r-MZ-JIFUEk",
        "outputId": "55b530c0-c2f9-4ae5-f26f-524656016436",
        "colab": {
          "base_uri": "https://localhost:8080/"
        }
      },
      "source": [
        "p=[]\n",
        "for i in model.predict(X_test):\n",
        "  if i <0.5:\n",
        "    p.append(0)\n",
        "  else:\n",
        "    p.append(1)\n",
        "\n",
        "confusion_matrix(y_test,p)\n"
      ],
      "execution_count": 125,
      "outputs": [
        {
          "output_type": "execute_result",
          "data": {
            "text/plain": [
              "array([[3123,  297],\n",
              "       [ 526, 3034]])"
            ]
          },
          "metadata": {
            "tags": []
          },
          "execution_count": 125
        }
      ]
    },
    {
      "cell_type": "code",
      "metadata": {
        "id": "f5T27d4pLj9h"
      },
      "source": [
        "def predict_text():\n",
        "    text = input(\"Enter review: \")\n",
        "    text_features = tfidf.transform([clean_text(text)])\n",
        "    words_count = len(text.split(' '))\n",
        "    punct_count = len([x for x in text if x in (';', ':', ',', '.', '!', '?')])\n",
        "    stopwords_count = len([x for x in text.split(\" \") if x in stopwords])\n",
        "    SIA=getSIA(text)\n",
        "    pol = TextBlob(text).sentiment.polarity\n",
        "    sub = TextBlob(text).sentiment.subjectivity\n",
        "    compound=SIA['compound']\n",
        "    neg=SIA['neg']\n",
        "    neu=SIA['neu']\n",
        "    pos=SIA['pos']\n",
        "    new=pd.DataFrame({'words_count':words_count,'punct_count':punct_count,'stopwords_count':stopwords_count,'polarity':pol\t,'subjectivity':sub,\t'compound':compound,\t'neg':neg\t,'neu':neu,\t'pos':pos}, index=[0])\n",
        "    new_features1 = new[['words_count','punct_count','stopwords_count','polarity'\t,'subjectivity',\t'compound',\t'neg'\t,'neu',\t'pos']].to_numpy()\n",
        "    new_features2 = np.concatenate((text_features.toarray(),new_features1), axis=1)\n",
        "    new_features2=scaler.transform(new_features2)\n",
        "    prediction = model.predict(new_features2)\n",
        "    prediction_rounded= round(prediction[0][0])\n",
        "    if prediction <=0.4 :\n",
        "      return \"with a {:.2f}% confidence the review is {}\".format((1-prediction[0][0])*100,encoder.inverse_transform([prediction_rounded])[0])\n",
        "    if prediction >=0.6 :\n",
        "      return \"with a {:.2f}% confidence the review is {}\".format((prediction[0][0])*100,encoder.inverse_transform([prediction_rounded])[0])\n",
        "    else:\n",
        "      return f\"can't significantly predict if it's good or bad {(prediction[0][0])*100}\"\n"
      ],
      "execution_count": 117,
      "outputs": []
    },
    {
      "cell_type": "code",
      "metadata": {
        "colab": {
          "base_uri": "https://localhost:8080/",
          "height": 52
        },
        "id": "Atid9-dVoXx7",
        "outputId": "420bc286-7989-4d1a-a825-2a8db4b1ca6b"
      },
      "source": [
        "df.iloc[22639][\"Review Text\"]"
      ],
      "execution_count": 108,
      "outputs": [
        {
          "output_type": "execute_result",
          "data": {
            "application/vnd.google.colaboratory.intrinsic+json": {
              "type": "string"
            },
            "text/plain": [
              "'bought dress wed summer cute unfortun fit isnt perfect medium fit waist perfectli way long big bust shoulder want spend money could get tailor felt like might worth side note dress deliv nordstrom tag found much cheaper look'"
            ]
          },
          "metadata": {
            "tags": []
          },
          "execution_count": 108
        }
      ]
    },
    {
      "cell_type": "code",
      "metadata": {
        "colab": {
          "base_uri": "https://localhost:8080/"
        },
        "id": "TLLO7woTN8gU",
        "outputId": "02118195-d375-4b42-fe1b-73704670671a"
      },
      "source": [
        "round(0.3)"
      ],
      "execution_count": 109,
      "outputs": [
        {
          "output_type": "execute_result",
          "data": {
            "text/plain": [
              "0"
            ]
          },
          "metadata": {
            "tags": []
          },
          "execution_count": 109
        }
      ]
    },
    {
      "cell_type": "code",
      "metadata": {
        "colab": {
          "base_uri": "https://localhost:8080/",
          "height": 52
        },
        "id": "pvrr81FRLkkW",
        "outputId": "73eb2fa8-bc1e-44fc-970c-c4dc3d40d753"
      },
      "source": [
        "predict_text()"
      ],
      "execution_count": 126,
      "outputs": [
        {
          "output_type": "stream",
          "text": [
            "Enter review: i am angry about this company and it's bad\n"
          ],
          "name": "stdout"
        },
        {
          "output_type": "execute_result",
          "data": {
            "application/vnd.google.colaboratory.intrinsic+json": {
              "type": "string"
            },
            "text/plain": [
              "'with a 90.44% confidence the review is bad'"
            ]
          },
          "metadata": {
            "tags": []
          },
          "execution_count": 126
        }
      ]
    },
    {
      "cell_type": "code",
      "metadata": {
        "id": "rQouhyMHqUlL"
      },
      "source": [
        "\n",
        "\n",
        "    "
      ],
      "execution_count": null,
      "outputs": []
    },
    {
      "cell_type": "code",
      "metadata": {
        "id": "RPnV50oHuEqP"
      },
      "source": [
        "# from sklearn.ensemble import RandomForestClassifier\n",
        "# from sklearn.neural_network import MLPClassifier\n",
        "# from sklearn.ensemble import AdaBoostClassifier\n"
      ],
      "execution_count": null,
      "outputs": []
    },
    {
      "cell_type": "code",
      "metadata": {
        "colab": {
          "base_uri": "https://localhost:8080/"
        },
        "id": "htHz2o64uJSj",
        "outputId": "bbae2a66-f87d-446c-cb2b-25032243a308"
      },
      "source": [
        "# model_MLP=MLPClassifier(activation='logistic',solver='adam',max_iter=100)\n",
        "# model_MLP.fit(X_train, y_train)"
      ],
      "execution_count": null,
      "outputs": [
        {
          "output_type": "stream",
          "text": [
            "/usr/local/lib/python3.7/dist-packages/sklearn/neural_network/_multilayer_perceptron.py:571: ConvergenceWarning: Stochastic Optimizer: Maximum iterations (100) reached and the optimization hasn't converged yet.\n",
            "  % self.max_iter, ConvergenceWarning)\n"
          ],
          "name": "stderr"
        },
        {
          "output_type": "execute_result",
          "data": {
            "text/plain": [
              "MLPClassifier(activation='logistic', alpha=0.0001, batch_size='auto',\n",
              "              beta_1=0.9, beta_2=0.999, early_stopping=False, epsilon=1e-08,\n",
              "              hidden_layer_sizes=(100,), learning_rate='constant',\n",
              "              learning_rate_init=0.001, max_fun=15000, max_iter=100,\n",
              "              momentum=0.9, n_iter_no_change=10, nesterovs_momentum=True,\n",
              "              power_t=0.5, random_state=None, shuffle=True, solver='adam',\n",
              "              tol=0.0001, validation_fraction=0.1, verbose=False,\n",
              "              warm_start=False)"
            ]
          },
          "metadata": {
            "tags": []
          },
          "execution_count": 53
        }
      ]
    },
    {
      "cell_type": "code",
      "metadata": {
        "colab": {
          "base_uri": "https://localhost:8080/"
        },
        "id": "j2-O0_GCuPTc",
        "outputId": "9743eef5-4e5b-4179-99df-795c6c9c98fc"
      },
      "source": [
        "# from sklearn.metrics import accuracy_score\n",
        "# test_predictions=model_MLP.predict(X_test)\n",
        "# test_accuracy = accuracy_score(test_predictions,y_test)\n",
        "# print (\"validation Accuracy : {0:.4%}\".format(test_accuracy))"
      ],
      "execution_count": null,
      "outputs": [
        {
          "output_type": "stream",
          "text": [
            "validation Accuracy : 85.8688%\n"
          ],
          "name": "stdout"
        }
      ]
    },
    {
      "cell_type": "code",
      "metadata": {
        "colab": {
          "base_uri": "https://localhost:8080/",
          "height": 1000
        },
        "id": "hvNuyTjSz55c",
        "outputId": "82d80c5a-712e-4f43-ca84-846ae91d214a"
      },
      "source": [
        "# clf = GridSearchCV(model_MLP, {\n",
        "#             'activation' : ['identity', 'logistic', 'tanh', 'relu'],\n",
        "#             'solver' : ['lbfgs', 'sgd', 'adam']\n",
        "#                                }, cv=5, return_train_score=False)\n",
        "# clf.fit(X_test, y_test)\n",
        "# dfcv = pd.DataFrame(clf.cv_results_)[['param_activation','param_solver','mean_test_score']].sort_values('mean_test_score')\n",
        "# display(dfcv)\n",
        "# print(f\"best params: {clf.best_params_}\")\n",
        "# print(f\"best score: {clf.best_score_}\")\n"
      ],
      "execution_count": null,
      "outputs": [
        {
          "output_type": "stream",
          "text": [
            "/usr/local/lib/python3.7/dist-packages/sklearn/neural_network/_multilayer_perceptron.py:470: ConvergenceWarning: lbfgs failed to converge (status=1):\n",
            "STOP: TOTAL NO. of ITERATIONS REACHED LIMIT.\n",
            "\n",
            "Increase the number of iterations (max_iter) or scale the data as shown in:\n",
            "    https://scikit-learn.org/stable/modules/preprocessing.html\n",
            "  self.n_iter_ = _check_optimize_result(\"lbfgs\", opt_res, self.max_iter)\n",
            "/usr/local/lib/python3.7/dist-packages/sklearn/neural_network/_multilayer_perceptron.py:470: ConvergenceWarning: lbfgs failed to converge (status=1):\n",
            "STOP: TOTAL NO. of ITERATIONS REACHED LIMIT.\n",
            "\n",
            "Increase the number of iterations (max_iter) or scale the data as shown in:\n",
            "    https://scikit-learn.org/stable/modules/preprocessing.html\n",
            "  self.n_iter_ = _check_optimize_result(\"lbfgs\", opt_res, self.max_iter)\n",
            "/usr/local/lib/python3.7/dist-packages/sklearn/neural_network/_multilayer_perceptron.py:571: ConvergenceWarning: Stochastic Optimizer: Maximum iterations (100) reached and the optimization hasn't converged yet.\n",
            "  % self.max_iter, ConvergenceWarning)\n",
            "/usr/local/lib/python3.7/dist-packages/sklearn/neural_network/_multilayer_perceptron.py:571: ConvergenceWarning: Stochastic Optimizer: Maximum iterations (100) reached and the optimization hasn't converged yet.\n",
            "  % self.max_iter, ConvergenceWarning)\n",
            "/usr/local/lib/python3.7/dist-packages/sklearn/neural_network/_multilayer_perceptron.py:571: ConvergenceWarning: Stochastic Optimizer: Maximum iterations (100) reached and the optimization hasn't converged yet.\n",
            "  % self.max_iter, ConvergenceWarning)\n",
            "/usr/local/lib/python3.7/dist-packages/sklearn/neural_network/_multilayer_perceptron.py:571: ConvergenceWarning: Stochastic Optimizer: Maximum iterations (100) reached and the optimization hasn't converged yet.\n",
            "  % self.max_iter, ConvergenceWarning)\n",
            "/usr/local/lib/python3.7/dist-packages/sklearn/neural_network/_multilayer_perceptron.py:571: ConvergenceWarning: Stochastic Optimizer: Maximum iterations (100) reached and the optimization hasn't converged yet.\n",
            "  % self.max_iter, ConvergenceWarning)\n",
            "/usr/local/lib/python3.7/dist-packages/sklearn/neural_network/_multilayer_perceptron.py:571: ConvergenceWarning: Stochastic Optimizer: Maximum iterations (100) reached and the optimization hasn't converged yet.\n",
            "  % self.max_iter, ConvergenceWarning)\n",
            "/usr/local/lib/python3.7/dist-packages/sklearn/neural_network/_multilayer_perceptron.py:470: ConvergenceWarning: lbfgs failed to converge (status=1):\n",
            "STOP: TOTAL NO. of ITERATIONS REACHED LIMIT.\n",
            "\n",
            "Increase the number of iterations (max_iter) or scale the data as shown in:\n",
            "    https://scikit-learn.org/stable/modules/preprocessing.html\n",
            "  self.n_iter_ = _check_optimize_result(\"lbfgs\", opt_res, self.max_iter)\n",
            "/usr/local/lib/python3.7/dist-packages/sklearn/neural_network/_multilayer_perceptron.py:470: ConvergenceWarning: lbfgs failed to converge (status=1):\n",
            "STOP: TOTAL NO. of ITERATIONS REACHED LIMIT.\n",
            "\n",
            "Increase the number of iterations (max_iter) or scale the data as shown in:\n",
            "    https://scikit-learn.org/stable/modules/preprocessing.html\n",
            "  self.n_iter_ = _check_optimize_result(\"lbfgs\", opt_res, self.max_iter)\n",
            "/usr/local/lib/python3.7/dist-packages/sklearn/neural_network/_multilayer_perceptron.py:470: ConvergenceWarning: lbfgs failed to converge (status=1):\n",
            "STOP: TOTAL NO. of ITERATIONS REACHED LIMIT.\n",
            "\n",
            "Increase the number of iterations (max_iter) or scale the data as shown in:\n",
            "    https://scikit-learn.org/stable/modules/preprocessing.html\n",
            "  self.n_iter_ = _check_optimize_result(\"lbfgs\", opt_res, self.max_iter)\n",
            "/usr/local/lib/python3.7/dist-packages/sklearn/neural_network/_multilayer_perceptron.py:571: ConvergenceWarning: Stochastic Optimizer: Maximum iterations (100) reached and the optimization hasn't converged yet.\n",
            "  % self.max_iter, ConvergenceWarning)\n",
            "/usr/local/lib/python3.7/dist-packages/sklearn/neural_network/_multilayer_perceptron.py:571: ConvergenceWarning: Stochastic Optimizer: Maximum iterations (100) reached and the optimization hasn't converged yet.\n",
            "  % self.max_iter, ConvergenceWarning)\n",
            "/usr/local/lib/python3.7/dist-packages/sklearn/neural_network/_multilayer_perceptron.py:571: ConvergenceWarning: Stochastic Optimizer: Maximum iterations (100) reached and the optimization hasn't converged yet.\n",
            "  % self.max_iter, ConvergenceWarning)\n",
            "/usr/local/lib/python3.7/dist-packages/sklearn/neural_network/_multilayer_perceptron.py:571: ConvergenceWarning: Stochastic Optimizer: Maximum iterations (100) reached and the optimization hasn't converged yet.\n",
            "  % self.max_iter, ConvergenceWarning)\n",
            "/usr/local/lib/python3.7/dist-packages/sklearn/neural_network/_multilayer_perceptron.py:571: ConvergenceWarning: Stochastic Optimizer: Maximum iterations (100) reached and the optimization hasn't converged yet.\n",
            "  % self.max_iter, ConvergenceWarning)\n",
            "/usr/local/lib/python3.7/dist-packages/sklearn/neural_network/_multilayer_perceptron.py:571: ConvergenceWarning: Stochastic Optimizer: Maximum iterations (100) reached and the optimization hasn't converged yet.\n",
            "  % self.max_iter, ConvergenceWarning)\n",
            "/usr/local/lib/python3.7/dist-packages/sklearn/neural_network/_multilayer_perceptron.py:571: ConvergenceWarning: Stochastic Optimizer: Maximum iterations (100) reached and the optimization hasn't converged yet.\n",
            "  % self.max_iter, ConvergenceWarning)\n",
            "/usr/local/lib/python3.7/dist-packages/sklearn/neural_network/_multilayer_perceptron.py:470: ConvergenceWarning: lbfgs failed to converge (status=1):\n",
            "STOP: TOTAL NO. of ITERATIONS REACHED LIMIT.\n",
            "\n",
            "Increase the number of iterations (max_iter) or scale the data as shown in:\n",
            "    https://scikit-learn.org/stable/modules/preprocessing.html\n",
            "  self.n_iter_ = _check_optimize_result(\"lbfgs\", opt_res, self.max_iter)\n",
            "/usr/local/lib/python3.7/dist-packages/sklearn/neural_network/_multilayer_perceptron.py:470: ConvergenceWarning: lbfgs failed to converge (status=1):\n",
            "STOP: TOTAL NO. of ITERATIONS REACHED LIMIT.\n",
            "\n",
            "Increase the number of iterations (max_iter) or scale the data as shown in:\n",
            "    https://scikit-learn.org/stable/modules/preprocessing.html\n",
            "  self.n_iter_ = _check_optimize_result(\"lbfgs\", opt_res, self.max_iter)\n",
            "/usr/local/lib/python3.7/dist-packages/sklearn/neural_network/_multilayer_perceptron.py:470: ConvergenceWarning: lbfgs failed to converge (status=1):\n",
            "STOP: TOTAL NO. of ITERATIONS REACHED LIMIT.\n",
            "\n",
            "Increase the number of iterations (max_iter) or scale the data as shown in:\n",
            "    https://scikit-learn.org/stable/modules/preprocessing.html\n",
            "  self.n_iter_ = _check_optimize_result(\"lbfgs\", opt_res, self.max_iter)\n",
            "/usr/local/lib/python3.7/dist-packages/sklearn/neural_network/_multilayer_perceptron.py:470: ConvergenceWarning: lbfgs failed to converge (status=1):\n",
            "STOP: TOTAL NO. of ITERATIONS REACHED LIMIT.\n",
            "\n",
            "Increase the number of iterations (max_iter) or scale the data as shown in:\n",
            "    https://scikit-learn.org/stable/modules/preprocessing.html\n",
            "  self.n_iter_ = _check_optimize_result(\"lbfgs\", opt_res, self.max_iter)\n",
            "/usr/local/lib/python3.7/dist-packages/sklearn/neural_network/_multilayer_perceptron.py:470: ConvergenceWarning: lbfgs failed to converge (status=1):\n",
            "STOP: TOTAL NO. of ITERATIONS REACHED LIMIT.\n",
            "\n",
            "Increase the number of iterations (max_iter) or scale the data as shown in:\n",
            "    https://scikit-learn.org/stable/modules/preprocessing.html\n",
            "  self.n_iter_ = _check_optimize_result(\"lbfgs\", opt_res, self.max_iter)\n",
            "/usr/local/lib/python3.7/dist-packages/sklearn/neural_network/_multilayer_perceptron.py:571: ConvergenceWarning: Stochastic Optimizer: Maximum iterations (100) reached and the optimization hasn't converged yet.\n",
            "  % self.max_iter, ConvergenceWarning)\n",
            "/usr/local/lib/python3.7/dist-packages/sklearn/neural_network/_multilayer_perceptron.py:571: ConvergenceWarning: Stochastic Optimizer: Maximum iterations (100) reached and the optimization hasn't converged yet.\n",
            "  % self.max_iter, ConvergenceWarning)\n",
            "/usr/local/lib/python3.7/dist-packages/sklearn/neural_network/_multilayer_perceptron.py:571: ConvergenceWarning: Stochastic Optimizer: Maximum iterations (100) reached and the optimization hasn't converged yet.\n",
            "  % self.max_iter, ConvergenceWarning)\n",
            "/usr/local/lib/python3.7/dist-packages/sklearn/neural_network/_multilayer_perceptron.py:571: ConvergenceWarning: Stochastic Optimizer: Maximum iterations (100) reached and the optimization hasn't converged yet.\n",
            "  % self.max_iter, ConvergenceWarning)\n",
            "/usr/local/lib/python3.7/dist-packages/sklearn/neural_network/_multilayer_perceptron.py:571: ConvergenceWarning: Stochastic Optimizer: Maximum iterations (100) reached and the optimization hasn't converged yet.\n",
            "  % self.max_iter, ConvergenceWarning)\n",
            "/usr/local/lib/python3.7/dist-packages/sklearn/neural_network/_multilayer_perceptron.py:571: ConvergenceWarning: Stochastic Optimizer: Maximum iterations (100) reached and the optimization hasn't converged yet.\n",
            "  % self.max_iter, ConvergenceWarning)\n",
            "/usr/local/lib/python3.7/dist-packages/sklearn/neural_network/_multilayer_perceptron.py:571: ConvergenceWarning: Stochastic Optimizer: Maximum iterations (100) reached and the optimization hasn't converged yet.\n",
            "  % self.max_iter, ConvergenceWarning)\n",
            "/usr/local/lib/python3.7/dist-packages/sklearn/neural_network/_multilayer_perceptron.py:571: ConvergenceWarning: Stochastic Optimizer: Maximum iterations (100) reached and the optimization hasn't converged yet.\n",
            "  % self.max_iter, ConvergenceWarning)\n",
            "/usr/local/lib/python3.7/dist-packages/sklearn/neural_network/_multilayer_perceptron.py:571: ConvergenceWarning: Stochastic Optimizer: Maximum iterations (100) reached and the optimization hasn't converged yet.\n",
            "  % self.max_iter, ConvergenceWarning)\n",
            "/usr/local/lib/python3.7/dist-packages/sklearn/neural_network/_multilayer_perceptron.py:571: ConvergenceWarning: Stochastic Optimizer: Maximum iterations (100) reached and the optimization hasn't converged yet.\n",
            "  % self.max_iter, ConvergenceWarning)\n",
            "/usr/local/lib/python3.7/dist-packages/sklearn/neural_network/_multilayer_perceptron.py:470: ConvergenceWarning: lbfgs failed to converge (status=1):\n",
            "STOP: TOTAL NO. of ITERATIONS REACHED LIMIT.\n",
            "\n",
            "Increase the number of iterations (max_iter) or scale the data as shown in:\n",
            "    https://scikit-learn.org/stable/modules/preprocessing.html\n",
            "  self.n_iter_ = _check_optimize_result(\"lbfgs\", opt_res, self.max_iter)\n",
            "/usr/local/lib/python3.7/dist-packages/sklearn/neural_network/_multilayer_perceptron.py:571: ConvergenceWarning: Stochastic Optimizer: Maximum iterations (100) reached and the optimization hasn't converged yet.\n",
            "  % self.max_iter, ConvergenceWarning)\n",
            "/usr/local/lib/python3.7/dist-packages/sklearn/neural_network/_multilayer_perceptron.py:571: ConvergenceWarning: Stochastic Optimizer: Maximum iterations (100) reached and the optimization hasn't converged yet.\n",
            "  % self.max_iter, ConvergenceWarning)\n",
            "/usr/local/lib/python3.7/dist-packages/sklearn/neural_network/_multilayer_perceptron.py:571: ConvergenceWarning: Stochastic Optimizer: Maximum iterations (100) reached and the optimization hasn't converged yet.\n",
            "  % self.max_iter, ConvergenceWarning)\n",
            "/usr/local/lib/python3.7/dist-packages/sklearn/neural_network/_multilayer_perceptron.py:571: ConvergenceWarning: Stochastic Optimizer: Maximum iterations (100) reached and the optimization hasn't converged yet.\n",
            "  % self.max_iter, ConvergenceWarning)\n",
            "/usr/local/lib/python3.7/dist-packages/sklearn/neural_network/_multilayer_perceptron.py:571: ConvergenceWarning: Stochastic Optimizer: Maximum iterations (100) reached and the optimization hasn't converged yet.\n",
            "  % self.max_iter, ConvergenceWarning)\n",
            "/usr/local/lib/python3.7/dist-packages/sklearn/neural_network/_multilayer_perceptron.py:571: ConvergenceWarning: Stochastic Optimizer: Maximum iterations (100) reached and the optimization hasn't converged yet.\n",
            "  % self.max_iter, ConvergenceWarning)\n"
          ],
          "name": "stderr"
        },
        {
          "output_type": "display_data",
          "data": {
            "text/html": [
              "<div>\n",
              "<style scoped>\n",
              "    .dataframe tbody tr th:only-of-type {\n",
              "        vertical-align: middle;\n",
              "    }\n",
              "\n",
              "    .dataframe tbody tr th {\n",
              "        vertical-align: top;\n",
              "    }\n",
              "\n",
              "    .dataframe thead th {\n",
              "        text-align: right;\n",
              "    }\n",
              "</style>\n",
              "<table border=\"1\" class=\"dataframe\">\n",
              "  <thead>\n",
              "    <tr style=\"text-align: right;\">\n",
              "      <th></th>\n",
              "      <th>param_activation</th>\n",
              "      <th>param_solver</th>\n",
              "      <th>mean_test_score</th>\n",
              "    </tr>\n",
              "  </thead>\n",
              "  <tbody>\n",
              "    <tr>\n",
              "      <th>9</th>\n",
              "      <td>relu</td>\n",
              "      <td>lbfgs</td>\n",
              "      <td>0.324945</td>\n",
              "    </tr>\n",
              "    <tr>\n",
              "      <th>0</th>\n",
              "      <td>identity</td>\n",
              "      <td>lbfgs</td>\n",
              "      <td>0.506182</td>\n",
              "    </tr>\n",
              "    <tr>\n",
              "      <th>10</th>\n",
              "      <td>relu</td>\n",
              "      <td>sgd</td>\n",
              "      <td>0.635710</td>\n",
              "    </tr>\n",
              "    <tr>\n",
              "      <th>1</th>\n",
              "      <td>identity</td>\n",
              "      <td>sgd</td>\n",
              "      <td>0.684275</td>\n",
              "    </tr>\n",
              "    <tr>\n",
              "      <th>6</th>\n",
              "      <td>tanh</td>\n",
              "      <td>lbfgs</td>\n",
              "      <td>0.749615</td>\n",
              "    </tr>\n",
              "    <tr>\n",
              "      <th>3</th>\n",
              "      <td>logistic</td>\n",
              "      <td>lbfgs</td>\n",
              "      <td>0.756684</td>\n",
              "    </tr>\n",
              "    <tr>\n",
              "      <th>4</th>\n",
              "      <td>logistic</td>\n",
              "      <td>sgd</td>\n",
              "      <td>0.769927</td>\n",
              "    </tr>\n",
              "    <tr>\n",
              "      <th>7</th>\n",
              "      <td>tanh</td>\n",
              "      <td>sgd</td>\n",
              "      <td>0.769927</td>\n",
              "    </tr>\n",
              "    <tr>\n",
              "      <th>8</th>\n",
              "      <td>tanh</td>\n",
              "      <td>adam</td>\n",
              "      <td>0.818059</td>\n",
              "    </tr>\n",
              "    <tr>\n",
              "      <th>2</th>\n",
              "      <td>identity</td>\n",
              "      <td>adam</td>\n",
              "      <td>0.820487</td>\n",
              "    </tr>\n",
              "    <tr>\n",
              "      <th>11</th>\n",
              "      <td>relu</td>\n",
              "      <td>adam</td>\n",
              "      <td>0.823581</td>\n",
              "    </tr>\n",
              "    <tr>\n",
              "      <th>5</th>\n",
              "      <td>logistic</td>\n",
              "      <td>adam</td>\n",
              "      <td>0.837490</td>\n",
              "    </tr>\n",
              "  </tbody>\n",
              "</table>\n",
              "</div>"
            ],
            "text/plain": [
              "   param_activation param_solver  mean_test_score\n",
              "9              relu        lbfgs         0.324945\n",
              "0          identity        lbfgs         0.506182\n",
              "10             relu          sgd         0.635710\n",
              "1          identity          sgd         0.684275\n",
              "6              tanh        lbfgs         0.749615\n",
              "3          logistic        lbfgs         0.756684\n",
              "4          logistic          sgd         0.769927\n",
              "7              tanh          sgd         0.769927\n",
              "8              tanh         adam         0.818059\n",
              "2          identity         adam         0.820487\n",
              "11             relu         adam         0.823581\n",
              "5          logistic         adam         0.837490"
            ]
          },
          "metadata": {
            "tags": []
          }
        },
        {
          "output_type": "stream",
          "text": [
            "best params: {'activation': 'logistic', 'solver': 'adam'}\n",
            "best score: 0.8374900296366763\n"
          ],
          "name": "stdout"
        }
      ]
    },
    {
      "cell_type": "code",
      "metadata": {
        "id": "jNqOa81Jw0_0"
      },
      "source": [
        "# def predict_text_MLP():\n",
        "#     text = input(\"Enter review: \")\n",
        "#     text_features = tfidf.transform([clean_text(text)])\n",
        "#     words_count = len(text.split(' '))\n",
        "#     punct_count = len([x for x in text if x in (';', ':', ',', '.', '!', '?')])\n",
        "#     stopwords_count = len([x for x in text if x in stopwords])\n",
        "#     SIA=getSIA(text)\n",
        "#     pol = TextBlob(text).sentiment.polarity\n",
        "#     sub = TextBlob(text).sentiment.subjectivity\n",
        "#     compound=SIA['compound']\n",
        "#     neg=SIA['neg']\n",
        "#     neu=SIA['neu']\n",
        "#     pos=SIA['pos']\n",
        "#     new=pd.DataFrame({'words_count':words_count,'punct_count':punct_count,'stopwords_count':stopwords_count,'polarity':pol\t,'subjectivity':sub,\t'compound':compound,\t'neg':neg\t,'neu':neu,\t'pos':pos}, index=[0])\n",
        "#     new_features1 = new[['words_count','punct_count','stopwords_count','polarity'\t,'subjectivity',\t'compound',\t'neg'\t,'neu',\t'pos']].to_numpy()\n",
        "#     new_features2 = np.concatenate((text_features.toarray(),new_features1), axis=1)\n",
        "#     prediction = model_MLP.predict(new_features2)\n",
        "#     return encoder.inverse_transform(prediction)[0][0]\n",
        "    \n"
      ],
      "execution_count": null,
      "outputs": []
    },
    {
      "cell_type": "code",
      "metadata": {
        "colab": {
          "base_uri": "https://localhost:8080/",
          "height": 52
        },
        "id": "B5THn1W0yCBS",
        "outputId": "e9a13433-97d7-4925-9b87-874e93e480de"
      },
      "source": [
        "# predict_text_MLP()"
      ],
      "execution_count": null,
      "outputs": [
        {
          "output_type": "stream",
          "text": [
            "Enter review: hihi\n"
          ],
          "name": "stdout"
        },
        {
          "output_type": "execute_result",
          "data": {
            "application/vnd.google.colaboratory.intrinsic+json": {
              "type": "string"
            },
            "text/plain": [
              "'good'"
            ]
          },
          "metadata": {
            "tags": []
          },
          "execution_count": 50
        }
      ]
    },
    {
      "cell_type": "code",
      "metadata": {
        "colab": {
          "base_uri": "https://localhost:8080/"
        },
        "id": "0_VsIqUxgNUC",
        "outputId": "a53bc686-9f9b-4961-b3df-ae28b43e34d5"
      },
      "source": [
        "\n",
        "\n",
        "# model = RandomForestClassifier(criterion=\"entropy\")\n",
        "# model.fit(X_train, y_train)\n",
        "\n"
      ],
      "execution_count": null,
      "outputs": [
        {
          "output_type": "execute_result",
          "data": {
            "text/plain": [
              "RandomForestClassifier(bootstrap=True, ccp_alpha=0.0, class_weight=None,\n",
              "                       criterion='entropy', max_depth=None, max_features='auto',\n",
              "                       max_leaf_nodes=None, max_samples=None,\n",
              "                       min_impurity_decrease=0.0, min_impurity_split=None,\n",
              "                       min_samples_leaf=1, min_samples_split=2,\n",
              "                       min_weight_fraction_leaf=0.0, n_estimators=100,\n",
              "                       n_jobs=None, oob_score=False, random_state=None,\n",
              "                       verbose=0, warm_start=False)"
            ]
          },
          "metadata": {
            "tags": []
          },
          "execution_count": 51
        }
      ]
    },
    {
      "cell_type": "code",
      "metadata": {
        "id": "x57UEcf5uM6C"
      },
      "source": [
        ""
      ],
      "execution_count": null,
      "outputs": []
    },
    {
      "cell_type": "code",
      "metadata": {
        "id": "_D3Pq5FouOeg"
      },
      "source": [
        ""
      ],
      "execution_count": null,
      "outputs": []
    },
    {
      "cell_type": "code",
      "metadata": {
        "colab": {
          "base_uri": "https://localhost:8080/"
        },
        "id": "kYvFuXI9rgNI",
        "outputId": "0f977c44-b723-48ef-cb59-38b2890cb0e9"
      },
      "source": [
        "# from sklearn.metrics import accuracy_score\n",
        "# test_predictions=model.predict(X_test)\n",
        "# test_accuracy = accuracy_score(test_predictions,y_test)\n",
        "# print (\"validation Accuracy : {0:.4%}\".format(test_accuracy))"
      ],
      "execution_count": null,
      "outputs": [
        {
          "output_type": "stream",
          "text": [
            "validation Accuracy : 82.9543%\n"
          ],
          "name": "stdout"
        }
      ]
    },
    {
      "cell_type": "code",
      "metadata": {
        "id": "UF7IJ0uovYTq"
      },
      "source": [
        "# from keras.preprocessing.sequence import pad_sequences"
      ],
      "execution_count": null,
      "outputs": []
    },
    {
      "cell_type": "code",
      "metadata": {
        "id": "6BjntkOutOEZ"
      },
      "source": [
        "# from google.colab import drive\n",
        "# drive.mount('/content/gdrive')"
      ],
      "execution_count": null,
      "outputs": []
    },
    {
      "cell_type": "code",
      "metadata": {
        "id": "WCgV9btZxdAu"
      },
      "source": [
        "# # Keras\n",
        "# from keras.layers import Dense\n",
        "# from keras.models import Sequential\n",
        "# from keras.layers import Dense, Dropout, Activation\n",
        "# from keras.layers import Embedding, Flatten\n",
        "# from keras.layers import Conv1D, GlobalMaxPooling1D\n",
        "# from keras.layers import LSTM\n",
        "# from keras.callbacks import ModelCheckpoint, ReduceLROnPlateau\n",
        "# from keras.preprocessing.sequence import pad_sequences\n",
        "# from xgboost import XGBClassifier"
      ],
      "execution_count": null,
      "outputs": []
    },
    {
      "cell_type": "code",
      "metadata": {
        "id": "wcbWxZIwF2lq"
      },
      "source": [
        "# def build_model(vocab_size, dim, embedding_matrix, max_length):\n",
        "#     model = Sequential()\n",
        "#     model.add(Embedding(vocab_size + 1, dim, weights=[embedding_matrix], input_length=max_length))\n",
        "#     model.add(Dropout(0.4))\n",
        "#     model.add(LSTM(128))\n",
        "#     model.add(Dense(64))\n",
        "#     model.add(Dropout(0.5))\n",
        "#     model.add(Activation('relu'))\n",
        "#     model.add(Dense(2))\n",
        "#     model.add(Activation('sigmoid'))\n",
        "#     model.compile(loss='binary_crossentropy', optimizer='adam', metrics=['accuracy'])\n",
        "#     return model\n",
        "\n"
      ],
      "execution_count": null,
      "outputs": []
    },
    {
      "cell_type": "code",
      "metadata": {
        "id": "ENOzA8d60CRi"
      },
      "source": [
        "# model = build_model(vocab_size, dim, embedding_matrix, max_length)"
      ],
      "execution_count": null,
      "outputs": []
    },
    {
      "cell_type": "code",
      "metadata": {
        "id": "7mpfyQIh1ABq"
      },
      "source": [
        "# reduce_lr = ReduceLROnPlateau(monitor='val_loss', factor=0.5, patience=2, min_lr=0.000001)\n",
        "# model.fit(X_train, y_train, batch_size=32, epochs=8, validation_split=0.1, shuffle=True, callbacks=[reduce_lr])"
      ],
      "execution_count": null,
      "outputs": []
    },
    {
      "cell_type": "code",
      "metadata": {
        "id": "pbzdMeB91SGp",
        "colab": {
          "base_uri": "https://localhost:8080/"
        },
        "outputId": "36c2fdf3-ff3c-4f44-8faf-328712b35091"
      },
      "source": [
        "neg_words=[\"sad\",\"anxious\",\"down\", \"stressed\" , \"upset\",\"pain\",\"crazy\",\"fault\",\"can't\",\"cannot\",\"loneliness\",\"sadness\",\"rage\"]\n",
        "b=input(\"write aBOUT YOUR SELF:\")\n",
        "b=b.split()\n",
        "w=[]\n",
        "binary=0\n",
        "for i in b:\n",
        "    if i.lower() in neg_words:\n",
        "        w.append(i)\n",
        "        binary=1\n",
        "print(w)\n",
        "print (binary)\n"
      ],
      "execution_count": null,
      "outputs": [
        {
          "output_type": "stream",
          "text": [
            "write aBOUT YOUR SELF:i am sad and stressed\n",
            "['sad', 'stressed']\n",
            "1\n"
          ],
          "name": "stdout"
        }
      ]
    }
  ]
}